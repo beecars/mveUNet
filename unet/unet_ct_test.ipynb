{
 "cells": [
  {
   "cell_type": "markdown",
   "metadata": {},
   "source": [
    "#  U-Net Test: CT Bone Segmentation"
   ]
  },
  {
   "cell_type": "code",
   "execution_count": 8,
   "metadata": {},
   "outputs": [],
   "source": [
    "from PIL import Image\n",
    "import numpy as np\n",
    "import scipy.io as scio\n",
    "import glob\n",
    "import torch\n",
    "\n",
    "import torch.nn as nn\n",
    "import torch.nn.functional as F\n",
    "import os\n",
    "import random\n",
    "from tqdm import tqdm\n",
    "\n",
    "from torch.utils.data import DataLoader\n",
    "from torch.optim import lr_scheduler\n",
    "import matplotlib.pyplot as plt\n",
    "\n",
    "from utils import match_files_from_patient, readBinImage, readUCharImage, get_spine_mask_v2\n",
    "from dataset import CTMaskDataset, CTPTMaskDataset\n",
    "from model import UNet\n",
    "from train import train_net, test_net\n",
    "from losses import FocalLoss, MixedLoss, dice, IoU\n",
    "\n",
    "import imgaug as iaa\n",
    "from datetime import datetime\n",
    "import pickle"
   ]
  },
  {
   "cell_type": "markdown",
   "metadata": {},
   "source": [
    "## Define Datasets\n",
    "Get the CT and label mask files into Datasets."
   ]
  },
  {
   "cell_type": "code",
   "execution_count": 9,
   "metadata": {
    "tags": []
   },
   "outputs": [
    {
     "output_type": "stream",
     "name": "stdout",
     "text": "train: 1985, dev: 220, test: 1176\n"
    }
   ],
   "source": [
    "train_patient_idxs = [1, 2, 4, 5]\n",
    "train_dev_data = []\n",
    "for idx in train_patient_idxs:\n",
    "    for day_selection in range(1,4):\n",
    "        patient_data = match_files_from_patient(idx, day_selection, mode='CT_PT_SPINE')\n",
    "        train_dev_data.extend(patient_data)\n",
    "        \n",
    "test_patient_idxs = [3, 6]\n",
    "test_data = []\n",
    "for idx in test_patient_idxs:\n",
    "    for day_selection in range(1,4):\n",
    "        patient_data = match_files_from_patient(idx, day_selection, mode='CT_PT_SPINE')\n",
    "        test_data.extend(patient_data)\n",
    "\n",
    "seed = 544\n",
    "K = int(0.1 * len(train_dev_data))\n",
    "np.random.shuffle(train_dev_data)\n",
    "dev_data = train_dev_data[:K]\n",
    "train_data = train_dev_data[K:]\n",
    "print('train: {}, dev: {}, test: {}'.format(len(train_data), len(dev_data), len(test_data)))\n",
    "\n",
    "batch_size = 2\n",
    "\n",
    "train_dataset = CTPTMaskDataset(train_data)\n",
    "train_generator = DataLoader(train_dataset, batch_size=batch_size, shuffle=True, num_workers=6)\n",
    "dev_dataset = CTPTMaskDataset(dev_data, offset=(0,0), output_size=(512, 512), augment=False)\n",
    "dev_generator = DataLoader(dev_dataset, batch_size=batch_size, shuffle=True, num_workers=6)"
   ]
  },
  {
   "cell_type": "markdown",
   "metadata": {},
   "source": [
    "## Dataset verification\n",
    "Check the dataset containers for correct data and shape."
   ]
  },
  {
   "cell_type": "code",
   "execution_count": 10,
   "metadata": {
    "tags": []
   },
   "outputs": [
    {
     "output_type": "stream",
     "name": "stdout",
     "text": "458 (2, 320, 320) (1, 320, 320)\n"
    },
    {
     "output_type": "display_data",
     "data": {
      "text/plain": "<Figure size 432x288 with 2 Axes>",
      "image/svg+xml": "<?xml version=\"1.0\" encoding=\"utf-8\" standalone=\"no\"?>\r\n<!DOCTYPE svg PUBLIC \"-//W3C//DTD SVG 1.1//EN\"\r\n  \"http://www.w3.org/Graphics/SVG/1.1/DTD/svg11.dtd\">\r\n<!-- Created with matplotlib (https://matplotlib.org/) -->\r\n<svg height=\"186.821378pt\" version=\"1.1\" viewBox=\"0 0 375.55767 186.821378\" width=\"375.55767pt\" xmlns=\"http://www.w3.org/2000/svg\" xmlns:xlink=\"http://www.w3.org/1999/xlink\">\r\n <defs>\r\n  <style type=\"text/css\">\r\n*{stroke-linecap:butt;stroke-linejoin:round;}\r\n  </style>\r\n </defs>\r\n <g id=\"figure_1\">\r\n  <g id=\"patch_1\">\r\n   <path d=\"M 0 186.821378 \r\nL 375.55767 186.821378 \r\nL 375.55767 0 \r\nL 0 0 \r\nz\r\n\"/>\r\n  </g>\r\n  <g id=\"axes_1\">\r\n   <g id=\"patch_2\">\r\n    <path d=\"M 33.2875 162.943253 \r\nL 185.469318 162.943253 \r\nL 185.469318 10.761435 \r\nL 33.2875 10.761435 \r\nz\r\n\"/>\r\n   </g>\r\n   <g clip-path=\"url(#p53126ebb3a)\">\r\n    <image height=\"153\" id=\"imaged21d60fad9\" transform=\"scale(1 -1)translate(0 -153)\" width=\"153\" x=\"33\" xlink:href=\"data:image/png;base64,\r\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\" y=\"-9.821378\"/>\r\n   </g>\r\n   <g id=\"matplotlib.axis_1\">\r\n    <g id=\"xtick_1\">\r\n     <g id=\"line2d_1\">\r\n      <defs>\r\n       <path d=\"M 0 0 \r\nL 0 3.5 \r\n\" id=\"m867c6356e1\" style=\"stroke:#ffffff;stroke-width:0.8;\"/>\r\n      </defs>\r\n      <g>\r\n       <use style=\"fill:#ffffff;stroke:#ffffff;stroke-width:0.8;\" x=\"33.525284\" xlink:href=\"#m867c6356e1\" y=\"162.943253\"/>\r\n      </g>\r\n     </g>\r\n     <g id=\"text_1\">\r\n      <!-- 0 -->\r\n      <defs>\r\n       <path d=\"M 31.78125 66.40625 \r\nQ 24.171875 66.40625 20.328125 58.90625 \r\nQ 16.5 51.421875 16.5 36.375 \r\nQ 16.5 21.390625 20.328125 13.890625 \r\nQ 24.171875 6.390625 31.78125 6.390625 \r\nQ 39.453125 6.390625 43.28125 13.890625 \r\nQ 47.125 21.390625 47.125 36.375 \r\nQ 47.125 51.421875 43.28125 58.90625 \r\nQ 39.453125 66.40625 31.78125 66.40625 \r\nz\r\nM 31.78125 74.21875 \r\nQ 44.046875 74.21875 50.515625 64.515625 \r\nQ 56.984375 54.828125 56.984375 36.375 \r\nQ 56.984375 17.96875 50.515625 8.265625 \r\nQ 44.046875 -1.421875 31.78125 -1.421875 \r\nQ 19.53125 -1.421875 13.0625 8.265625 \r\nQ 6.59375 17.96875 6.59375 36.375 \r\nQ 6.59375 54.828125 13.0625 64.515625 \r\nQ 19.53125 74.21875 31.78125 74.21875 \r\nz\r\n\" id=\"DejaVuSans-48\"/>\r\n      </defs>\r\n      <g style=\"fill:#ffffff;\" transform=\"translate(30.344034 177.54169)scale(0.1 -0.1)\">\r\n       <use xlink:href=\"#DejaVuSans-48\"/>\r\n      </g>\r\n     </g>\r\n    </g>\r\n    <g id=\"xtick_2\">\r\n     <g id=\"line2d_2\">\r\n      <g>\r\n       <use style=\"fill:#ffffff;stroke:#ffffff;stroke-width:0.8;\" x=\"81.082102\" xlink:href=\"#m867c6356e1\" y=\"162.943253\"/>\r\n      </g>\r\n     </g>\r\n     <g id=\"text_2\">\r\n      <!-- 100 -->\r\n      <defs>\r\n       <path d=\"M 12.40625 8.296875 \r\nL 28.515625 8.296875 \r\nL 28.515625 63.921875 \r\nL 10.984375 60.40625 \r\nL 10.984375 69.390625 \r\nL 28.421875 72.90625 \r\nL 38.28125 72.90625 \r\nL 38.28125 8.296875 \r\nL 54.390625 8.296875 \r\nL 54.390625 0 \r\nL 12.40625 0 \r\nz\r\n\" id=\"DejaVuSans-49\"/>\r\n      </defs>\r\n      <g style=\"fill:#ffffff;\" transform=\"translate(71.538352 177.54169)scale(0.1 -0.1)\">\r\n       <use xlink:href=\"#DejaVuSans-49\"/>\r\n       <use x=\"63.623047\" xlink:href=\"#DejaVuSans-48\"/>\r\n       <use x=\"127.246094\" xlink:href=\"#DejaVuSans-48\"/>\r\n      </g>\r\n     </g>\r\n    </g>\r\n    <g id=\"xtick_3\">\r\n     <g id=\"line2d_3\">\r\n      <g>\r\n       <use style=\"fill:#ffffff;stroke:#ffffff;stroke-width:0.8;\" x=\"128.63892\" xlink:href=\"#m867c6356e1\" y=\"162.943253\"/>\r\n      </g>\r\n     </g>\r\n     <g id=\"text_3\">\r\n      <!-- 200 -->\r\n      <defs>\r\n       <path d=\"M 19.1875 8.296875 \r\nL 53.609375 8.296875 \r\nL 53.609375 0 \r\nL 7.328125 0 \r\nL 7.328125 8.296875 \r\nQ 12.9375 14.109375 22.625 23.890625 \r\nQ 32.328125 33.6875 34.8125 36.53125 \r\nQ 39.546875 41.84375 41.421875 45.53125 \r\nQ 43.3125 49.21875 43.3125 52.78125 \r\nQ 43.3125 58.59375 39.234375 62.25 \r\nQ 35.15625 65.921875 28.609375 65.921875 \r\nQ 23.96875 65.921875 18.8125 64.3125 \r\nQ 13.671875 62.703125 7.8125 59.421875 \r\nL 7.8125 69.390625 \r\nQ 13.765625 71.78125 18.9375 73 \r\nQ 24.125 74.21875 28.421875 74.21875 \r\nQ 39.75 74.21875 46.484375 68.546875 \r\nQ 53.21875 62.890625 53.21875 53.421875 \r\nQ 53.21875 48.921875 51.53125 44.890625 \r\nQ 49.859375 40.875 45.40625 35.40625 \r\nQ 44.1875 33.984375 37.640625 27.21875 \r\nQ 31.109375 20.453125 19.1875 8.296875 \r\nz\r\n\" id=\"DejaVuSans-50\"/>\r\n      </defs>\r\n      <g style=\"fill:#ffffff;\" transform=\"translate(119.09517 177.54169)scale(0.1 -0.1)\">\r\n       <use xlink:href=\"#DejaVuSans-50\"/>\r\n       <use x=\"63.623047\" xlink:href=\"#DejaVuSans-48\"/>\r\n       <use x=\"127.246094\" xlink:href=\"#DejaVuSans-48\"/>\r\n      </g>\r\n     </g>\r\n    </g>\r\n    <g id=\"xtick_4\">\r\n     <g id=\"line2d_4\">\r\n      <g>\r\n       <use style=\"fill:#ffffff;stroke:#ffffff;stroke-width:0.8;\" x=\"176.195739\" xlink:href=\"#m867c6356e1\" y=\"162.943253\"/>\r\n      </g>\r\n     </g>\r\n     <g id=\"text_4\">\r\n      <!-- 300 -->\r\n      <defs>\r\n       <path d=\"M 40.578125 39.3125 \r\nQ 47.65625 37.796875 51.625 33 \r\nQ 55.609375 28.21875 55.609375 21.1875 \r\nQ 55.609375 10.40625 48.1875 4.484375 \r\nQ 40.765625 -1.421875 27.09375 -1.421875 \r\nQ 22.515625 -1.421875 17.65625 -0.515625 \r\nQ 12.796875 0.390625 7.625 2.203125 \r\nL 7.625 11.71875 \r\nQ 11.71875 9.328125 16.59375 8.109375 \r\nQ 21.484375 6.890625 26.8125 6.890625 \r\nQ 36.078125 6.890625 40.9375 10.546875 \r\nQ 45.796875 14.203125 45.796875 21.1875 \r\nQ 45.796875 27.640625 41.28125 31.265625 \r\nQ 36.765625 34.90625 28.71875 34.90625 \r\nL 20.21875 34.90625 \r\nL 20.21875 43.015625 \r\nL 29.109375 43.015625 \r\nQ 36.375 43.015625 40.234375 45.921875 \r\nQ 44.09375 48.828125 44.09375 54.296875 \r\nQ 44.09375 59.90625 40.109375 62.90625 \r\nQ 36.140625 65.921875 28.71875 65.921875 \r\nQ 24.65625 65.921875 20.015625 65.03125 \r\nQ 15.375 64.15625 9.8125 62.3125 \r\nL 9.8125 71.09375 \r\nQ 15.4375 72.65625 20.34375 73.4375 \r\nQ 25.25 74.21875 29.59375 74.21875 \r\nQ 40.828125 74.21875 47.359375 69.109375 \r\nQ 53.90625 64.015625 53.90625 55.328125 \r\nQ 53.90625 49.265625 50.4375 45.09375 \r\nQ 46.96875 40.921875 40.578125 39.3125 \r\nz\r\n\" id=\"DejaVuSans-51\"/>\r\n      </defs>\r\n      <g style=\"fill:#ffffff;\" transform=\"translate(166.651989 177.54169)scale(0.1 -0.1)\">\r\n       <use xlink:href=\"#DejaVuSans-51\"/>\r\n       <use x=\"63.623047\" xlink:href=\"#DejaVuSans-48\"/>\r\n       <use x=\"127.246094\" xlink:href=\"#DejaVuSans-48\"/>\r\n      </g>\r\n     </g>\r\n    </g>\r\n   </g>\r\n   <g id=\"matplotlib.axis_2\">\r\n    <g id=\"ytick_1\">\r\n     <g id=\"line2d_5\">\r\n      <defs>\r\n       <path d=\"M 0 0 \r\nL -3.5 0 \r\n\" id=\"mb1f3af00f6\" style=\"stroke:#ffffff;stroke-width:0.8;\"/>\r\n      </defs>\r\n      <g>\r\n       <use style=\"fill:#ffffff;stroke:#ffffff;stroke-width:0.8;\" x=\"33.2875\" xlink:href=\"#mb1f3af00f6\" y=\"10.999219\"/>\r\n      </g>\r\n     </g>\r\n     <g id=\"text_5\">\r\n      <!-- 0 -->\r\n      <g style=\"fill:#ffffff;\" transform=\"translate(19.925 14.798437)scale(0.1 -0.1)\">\r\n       <use xlink:href=\"#DejaVuSans-48\"/>\r\n      </g>\r\n     </g>\r\n    </g>\r\n    <g id=\"ytick_2\">\r\n     <g id=\"line2d_6\">\r\n      <g>\r\n       <use style=\"fill:#ffffff;stroke:#ffffff;stroke-width:0.8;\" x=\"33.2875\" xlink:href=\"#mb1f3af00f6\" y=\"34.777628\"/>\r\n      </g>\r\n     </g>\r\n     <g id=\"text_6\">\r\n      <!-- 50 -->\r\n      <defs>\r\n       <path d=\"M 10.796875 72.90625 \r\nL 49.515625 72.90625 \r\nL 49.515625 64.59375 \r\nL 19.828125 64.59375 \r\nL 19.828125 46.734375 \r\nQ 21.96875 47.46875 24.109375 47.828125 \r\nQ 26.265625 48.1875 28.421875 48.1875 \r\nQ 40.625 48.1875 47.75 41.5 \r\nQ 54.890625 34.8125 54.890625 23.390625 \r\nQ 54.890625 11.625 47.5625 5.09375 \r\nQ 40.234375 -1.421875 26.90625 -1.421875 \r\nQ 22.3125 -1.421875 17.546875 -0.640625 \r\nQ 12.796875 0.140625 7.71875 1.703125 \r\nL 7.71875 11.625 \r\nQ 12.109375 9.234375 16.796875 8.0625 \r\nQ 21.484375 6.890625 26.703125 6.890625 \r\nQ 35.15625 6.890625 40.078125 11.328125 \r\nQ 45.015625 15.765625 45.015625 23.390625 \r\nQ 45.015625 31 40.078125 35.4375 \r\nQ 35.15625 39.890625 26.703125 39.890625 \r\nQ 22.75 39.890625 18.8125 39.015625 \r\nQ 14.890625 38.140625 10.796875 36.28125 \r\nz\r\n\" id=\"DejaVuSans-53\"/>\r\n      </defs>\r\n      <g style=\"fill:#ffffff;\" transform=\"translate(13.5625 38.576847)scale(0.1 -0.1)\">\r\n       <use xlink:href=\"#DejaVuSans-53\"/>\r\n       <use x=\"63.623047\" xlink:href=\"#DejaVuSans-48\"/>\r\n      </g>\r\n     </g>\r\n    </g>\r\n    <g id=\"ytick_3\">\r\n     <g id=\"line2d_7\">\r\n      <g>\r\n       <use style=\"fill:#ffffff;stroke:#ffffff;stroke-width:0.8;\" x=\"33.2875\" xlink:href=\"#mb1f3af00f6\" y=\"58.556037\"/>\r\n      </g>\r\n     </g>\r\n     <g id=\"text_7\">\r\n      <!-- 100 -->\r\n      <g style=\"fill:#ffffff;\" transform=\"translate(7.2 62.355256)scale(0.1 -0.1)\">\r\n       <use xlink:href=\"#DejaVuSans-49\"/>\r\n       <use x=\"63.623047\" xlink:href=\"#DejaVuSans-48\"/>\r\n       <use x=\"127.246094\" xlink:href=\"#DejaVuSans-48\"/>\r\n      </g>\r\n     </g>\r\n    </g>\r\n    <g id=\"ytick_4\">\r\n     <g id=\"line2d_8\">\r\n      <g>\r\n       <use style=\"fill:#ffffff;stroke:#ffffff;stroke-width:0.8;\" x=\"33.2875\" xlink:href=\"#mb1f3af00f6\" y=\"82.334446\"/>\r\n      </g>\r\n     </g>\r\n     <g id=\"text_8\">\r\n      <!-- 150 -->\r\n      <g style=\"fill:#ffffff;\" transform=\"translate(7.2 86.133665)scale(0.1 -0.1)\">\r\n       <use xlink:href=\"#DejaVuSans-49\"/>\r\n       <use x=\"63.623047\" xlink:href=\"#DejaVuSans-53\"/>\r\n       <use x=\"127.246094\" xlink:href=\"#DejaVuSans-48\"/>\r\n      </g>\r\n     </g>\r\n    </g>\r\n    <g id=\"ytick_5\">\r\n     <g id=\"line2d_9\">\r\n      <g>\r\n       <use style=\"fill:#ffffff;stroke:#ffffff;stroke-width:0.8;\" x=\"33.2875\" xlink:href=\"#mb1f3af00f6\" y=\"106.112855\"/>\r\n      </g>\r\n     </g>\r\n     <g id=\"text_9\">\r\n      <!-- 200 -->\r\n      <g style=\"fill:#ffffff;\" transform=\"translate(7.2 109.912074)scale(0.1 -0.1)\">\r\n       <use xlink:href=\"#DejaVuSans-50\"/>\r\n       <use x=\"63.623047\" xlink:href=\"#DejaVuSans-48\"/>\r\n       <use x=\"127.246094\" xlink:href=\"#DejaVuSans-48\"/>\r\n      </g>\r\n     </g>\r\n    </g>\r\n    <g id=\"ytick_6\">\r\n     <g id=\"line2d_10\">\r\n      <g>\r\n       <use style=\"fill:#ffffff;stroke:#ffffff;stroke-width:0.8;\" x=\"33.2875\" xlink:href=\"#mb1f3af00f6\" y=\"129.891264\"/>\r\n      </g>\r\n     </g>\r\n     <g id=\"text_10\">\r\n      <!-- 250 -->\r\n      <g style=\"fill:#ffffff;\" transform=\"translate(7.2 133.690483)scale(0.1 -0.1)\">\r\n       <use xlink:href=\"#DejaVuSans-50\"/>\r\n       <use x=\"63.623047\" xlink:href=\"#DejaVuSans-53\"/>\r\n       <use x=\"127.246094\" xlink:href=\"#DejaVuSans-48\"/>\r\n      </g>\r\n     </g>\r\n    </g>\r\n    <g id=\"ytick_7\">\r\n     <g id=\"line2d_11\">\r\n      <g>\r\n       <use style=\"fill:#ffffff;stroke:#ffffff;stroke-width:0.8;\" x=\"33.2875\" xlink:href=\"#mb1f3af00f6\" y=\"153.669673\"/>\r\n      </g>\r\n     </g>\r\n     <g id=\"text_11\">\r\n      <!-- 300 -->\r\n      <g style=\"fill:#ffffff;\" transform=\"translate(7.2 157.468892)scale(0.1 -0.1)\">\r\n       <use xlink:href=\"#DejaVuSans-51\"/>\r\n       <use x=\"63.623047\" xlink:href=\"#DejaVuSans-48\"/>\r\n       <use x=\"127.246094\" xlink:href=\"#DejaVuSans-48\"/>\r\n      </g>\r\n     </g>\r\n    </g>\r\n   </g>\r\n   <g id=\"patch_3\">\r\n    <path d=\"M 33.2875 162.943253 \r\nL 33.2875 10.761435 \r\n\" style=\"fill:none;stroke:#ffffff;stroke-linecap:square;stroke-linejoin:miter;stroke-width:0.8;\"/>\r\n   </g>\r\n   <g id=\"patch_4\">\r\n    <path d=\"M 185.469318 162.943253 \r\nL 185.469318 10.761435 \r\n\" style=\"fill:none;stroke:#ffffff;stroke-linecap:square;stroke-linejoin:miter;stroke-width:0.8;\"/>\r\n   </g>\r\n   <g id=\"patch_5\">\r\n    <path d=\"M 33.2875 162.943253 \r\nL 185.469318 162.943253 \r\n\" style=\"fill:none;stroke:#ffffff;stroke-linecap:square;stroke-linejoin:miter;stroke-width:0.8;\"/>\r\n   </g>\r\n   <g id=\"patch_6\">\r\n    <path d=\"M 33.2875 10.761435 \r\nL 185.469318 10.761435 \r\n\" style=\"fill:none;stroke:#ffffff;stroke-linecap:square;stroke-linejoin:miter;stroke-width:0.8;\"/>\r\n   </g>\r\n  </g>\r\n  <g id=\"axes_2\">\r\n   <g id=\"patch_7\">\r\n    <path d=\"M 215.905682 162.943253 \r\nL 368.0875 162.943253 \r\nL 368.0875 10.761435 \r\nL 215.905682 10.761435 \r\nz\r\n\"/>\r\n   </g>\r\n   <g clip-path=\"url(#pf5a807ff20)\">\r\n    <image height=\"153\" id=\"imageed6cd9aa0f\" transform=\"scale(1 -1)translate(0 -153)\" width=\"153\" x=\"215.905682\" xlink:href=\"data:image/png;base64,\r\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\" y=\"-9.943253\"/>\r\n   </g>\r\n   <g id=\"matplotlib.axis_3\">\r\n    <g id=\"xtick_5\">\r\n     <g id=\"line2d_12\">\r\n      <g>\r\n       <use style=\"fill:#ffffff;stroke:#ffffff;stroke-width:0.8;\" x=\"216.143466\" xlink:href=\"#m867c6356e1\" y=\"162.943253\"/>\r\n      </g>\r\n     </g>\r\n     <g id=\"text_12\">\r\n      <!-- 0 -->\r\n      <g style=\"fill:#ffffff;\" transform=\"translate(212.962216 177.54169)scale(0.1 -0.1)\">\r\n       <use xlink:href=\"#DejaVuSans-48\"/>\r\n      </g>\r\n     </g>\r\n    </g>\r\n    <g id=\"xtick_6\">\r\n     <g id=\"line2d_13\">\r\n      <g>\r\n       <use style=\"fill:#ffffff;stroke:#ffffff;stroke-width:0.8;\" x=\"263.700284\" xlink:href=\"#m867c6356e1\" y=\"162.943253\"/>\r\n      </g>\r\n     </g>\r\n     <g id=\"text_13\">\r\n      <!-- 100 -->\r\n      <g style=\"fill:#ffffff;\" transform=\"translate(254.156534 177.54169)scale(0.1 -0.1)\">\r\n       <use xlink:href=\"#DejaVuSans-49\"/>\r\n       <use x=\"63.623047\" xlink:href=\"#DejaVuSans-48\"/>\r\n       <use x=\"127.246094\" xlink:href=\"#DejaVuSans-48\"/>\r\n      </g>\r\n     </g>\r\n    </g>\r\n    <g id=\"xtick_7\">\r\n     <g id=\"line2d_14\">\r\n      <g>\r\n       <use style=\"fill:#ffffff;stroke:#ffffff;stroke-width:0.8;\" x=\"311.257102\" xlink:href=\"#m867c6356e1\" y=\"162.943253\"/>\r\n      </g>\r\n     </g>\r\n     <g id=\"text_14\">\r\n      <!-- 200 -->\r\n      <g style=\"fill:#ffffff;\" transform=\"translate(301.713352 177.54169)scale(0.1 -0.1)\">\r\n       <use xlink:href=\"#DejaVuSans-50\"/>\r\n       <use x=\"63.623047\" xlink:href=\"#DejaVuSans-48\"/>\r\n       <use x=\"127.246094\" xlink:href=\"#DejaVuSans-48\"/>\r\n      </g>\r\n     </g>\r\n    </g>\r\n    <g id=\"xtick_8\">\r\n     <g id=\"line2d_15\">\r\n      <g>\r\n       <use style=\"fill:#ffffff;stroke:#ffffff;stroke-width:0.8;\" x=\"358.81392\" xlink:href=\"#m867c6356e1\" y=\"162.943253\"/>\r\n      </g>\r\n     </g>\r\n     <g id=\"text_15\">\r\n      <!-- 300 -->\r\n      <g style=\"fill:#ffffff;\" transform=\"translate(349.27017 177.54169)scale(0.1 -0.1)\">\r\n       <use xlink:href=\"#DejaVuSans-51\"/>\r\n       <use x=\"63.623047\" xlink:href=\"#DejaVuSans-48\"/>\r\n       <use x=\"127.246094\" xlink:href=\"#DejaVuSans-48\"/>\r\n      </g>\r\n     </g>\r\n    </g>\r\n   </g>\r\n   <g id=\"matplotlib.axis_4\">\r\n    <g id=\"ytick_8\">\r\n     <g id=\"line2d_16\">\r\n      <g>\r\n       <use style=\"fill:#ffffff;stroke:#ffffff;stroke-width:0.8;\" x=\"215.905682\" xlink:href=\"#mb1f3af00f6\" y=\"10.999219\"/>\r\n      </g>\r\n     </g>\r\n     <g id=\"text_16\">\r\n      <!-- 0 -->\r\n      <g style=\"fill:#ffffff;\" transform=\"translate(202.543182 14.798437)scale(0.1 -0.1)\">\r\n       <use xlink:href=\"#DejaVuSans-48\"/>\r\n      </g>\r\n     </g>\r\n    </g>\r\n    <g id=\"ytick_9\">\r\n     <g id=\"line2d_17\">\r\n      <g>\r\n       <use style=\"fill:#ffffff;stroke:#ffffff;stroke-width:0.8;\" x=\"215.905682\" xlink:href=\"#mb1f3af00f6\" y=\"34.777628\"/>\r\n      </g>\r\n     </g>\r\n     <g id=\"text_17\">\r\n      <!-- 50 -->\r\n      <g style=\"fill:#ffffff;\" transform=\"translate(196.180682 38.576847)scale(0.1 -0.1)\">\r\n       <use xlink:href=\"#DejaVuSans-53\"/>\r\n       <use x=\"63.623047\" xlink:href=\"#DejaVuSans-48\"/>\r\n      </g>\r\n     </g>\r\n    </g>\r\n    <g id=\"ytick_10\">\r\n     <g id=\"line2d_18\">\r\n      <g>\r\n       <use style=\"fill:#ffffff;stroke:#ffffff;stroke-width:0.8;\" x=\"215.905682\" xlink:href=\"#mb1f3af00f6\" y=\"58.556037\"/>\r\n      </g>\r\n     </g>\r\n     <g id=\"text_18\">\r\n      <!-- 100 -->\r\n      <g style=\"fill:#ffffff;\" transform=\"translate(189.818182 62.355256)scale(0.1 -0.1)\">\r\n       <use xlink:href=\"#DejaVuSans-49\"/>\r\n       <use x=\"63.623047\" xlink:href=\"#DejaVuSans-48\"/>\r\n       <use x=\"127.246094\" xlink:href=\"#DejaVuSans-48\"/>\r\n      </g>\r\n     </g>\r\n    </g>\r\n    <g id=\"ytick_11\">\r\n     <g id=\"line2d_19\">\r\n      <g>\r\n       <use style=\"fill:#ffffff;stroke:#ffffff;stroke-width:0.8;\" x=\"215.905682\" xlink:href=\"#mb1f3af00f6\" y=\"82.334446\"/>\r\n      </g>\r\n     </g>\r\n     <g id=\"text_19\">\r\n      <!-- 150 -->\r\n      <g style=\"fill:#ffffff;\" transform=\"translate(189.818182 86.133665)scale(0.1 -0.1)\">\r\n       <use xlink:href=\"#DejaVuSans-49\"/>\r\n       <use x=\"63.623047\" xlink:href=\"#DejaVuSans-53\"/>\r\n       <use x=\"127.246094\" xlink:href=\"#DejaVuSans-48\"/>\r\n      </g>\r\n     </g>\r\n    </g>\r\n    <g id=\"ytick_12\">\r\n     <g id=\"line2d_20\">\r\n      <g>\r\n       <use style=\"fill:#ffffff;stroke:#ffffff;stroke-width:0.8;\" x=\"215.905682\" xlink:href=\"#mb1f3af00f6\" y=\"106.112855\"/>\r\n      </g>\r\n     </g>\r\n     <g id=\"text_20\">\r\n      <!-- 200 -->\r\n      <g style=\"fill:#ffffff;\" transform=\"translate(189.818182 109.912074)scale(0.1 -0.1)\">\r\n       <use xlink:href=\"#DejaVuSans-50\"/>\r\n       <use x=\"63.623047\" xlink:href=\"#DejaVuSans-48\"/>\r\n       <use x=\"127.246094\" xlink:href=\"#DejaVuSans-48\"/>\r\n      </g>\r\n     </g>\r\n    </g>\r\n    <g id=\"ytick_13\">\r\n     <g id=\"line2d_21\">\r\n      <g>\r\n       <use style=\"fill:#ffffff;stroke:#ffffff;stroke-width:0.8;\" x=\"215.905682\" xlink:href=\"#mb1f3af00f6\" y=\"129.891264\"/>\r\n      </g>\r\n     </g>\r\n     <g id=\"text_21\">\r\n      <!-- 250 -->\r\n      <g style=\"fill:#ffffff;\" transform=\"translate(189.818182 133.690483)scale(0.1 -0.1)\">\r\n       <use xlink:href=\"#DejaVuSans-50\"/>\r\n       <use x=\"63.623047\" xlink:href=\"#DejaVuSans-53\"/>\r\n       <use x=\"127.246094\" xlink:href=\"#DejaVuSans-48\"/>\r\n      </g>\r\n     </g>\r\n    </g>\r\n    <g id=\"ytick_14\">\r\n     <g id=\"line2d_22\">\r\n      <g>\r\n       <use style=\"fill:#ffffff;stroke:#ffffff;stroke-width:0.8;\" x=\"215.905682\" xlink:href=\"#mb1f3af00f6\" y=\"153.669673\"/>\r\n      </g>\r\n     </g>\r\n     <g id=\"text_22\">\r\n      <!-- 300 -->\r\n      <g style=\"fill:#ffffff;\" transform=\"translate(189.818182 157.468892)scale(0.1 -0.1)\">\r\n       <use xlink:href=\"#DejaVuSans-51\"/>\r\n       <use x=\"63.623047\" xlink:href=\"#DejaVuSans-48\"/>\r\n       <use x=\"127.246094\" xlink:href=\"#DejaVuSans-48\"/>\r\n      </g>\r\n     </g>\r\n    </g>\r\n   </g>\r\n   <g id=\"patch_8\">\r\n    <path d=\"M 215.905682 162.943253 \r\nL 215.905682 10.761435 \r\n\" style=\"fill:none;stroke:#ffffff;stroke-linecap:square;stroke-linejoin:miter;stroke-width:0.8;\"/>\r\n   </g>\r\n   <g id=\"patch_9\">\r\n    <path d=\"M 368.0875 162.943253 \r\nL 368.0875 10.761435 \r\n\" style=\"fill:none;stroke:#ffffff;stroke-linecap:square;stroke-linejoin:miter;stroke-width:0.8;\"/>\r\n   </g>\r\n   <g id=\"patch_10\">\r\n    <path d=\"M 215.905682 162.943253 \r\nL 368.0875 162.943253 \r\n\" style=\"fill:none;stroke:#ffffff;stroke-linecap:square;stroke-linejoin:miter;stroke-width:0.8;\"/>\r\n   </g>\r\n   <g id=\"patch_11\">\r\n    <path d=\"M 215.905682 10.761435 \r\nL 368.0875 10.761435 \r\n\" style=\"fill:none;stroke:#ffffff;stroke-linecap:square;stroke-linejoin:miter;stroke-width:0.8;\"/>\r\n   </g>\r\n  </g>\r\n </g>\r\n <defs>\r\n  <clipPath id=\"p53126ebb3a\">\r\n   <rect height=\"152.181818\" width=\"152.181818\" x=\"33.2875\" y=\"10.761435\"/>\r\n  </clipPath>\r\n  <clipPath id=\"pf5a807ff20\">\r\n   <rect height=\"152.181818\" width=\"152.181818\" x=\"215.905682\" y=\"10.761435\"/>\r\n  </clipPath>\r\n </defs>\r\n</svg>\r\n",
      "image/png": "[encoded data removed]"
     },
     "metadata": {}
    }
   ],
   "source": [
    "idx = np.random.choice(len(train_dataset))\n",
    "sample_data = train_dataset[idx]\n",
    "\n",
    "ct_pt = sample_data['data']\n",
    "ct, pt = ct_pt[0, :, :], ct_pt[1, :, :]\n",
    "mask = sample_data['label']\n",
    "print(idx, ct_pt.shape, mask.shape)\n",
    "\n",
    "fig = plt.Figure(figsize=(10,20))\n",
    "ax = plt.subplot(1,2,1)\n",
    "ax.imshow(ct)\n",
    "#ax.imshow(mask, alpha=0.7, cmap='jet')\n",
    "ax.imshow(pt, alpha=0.3, cmap='jet')\n",
    "bx = plt.subplot(1,2,2)\n",
    "bx.imshow(pt)\n",
    "plt.show()"
   ]
  },
  {
   "cell_type": "markdown",
   "metadata": {},
   "source": [
    "## Training and test functions from torch.nn\n",
    "These are actually also in train.py so can probably remove this cell... just need to check compatible...."
   ]
  },
  {
   "cell_type": "code",
   "execution_count": 11,
   "metadata": {},
   "outputs": [],
   "source": [
    "def test_net(model, \n",
    "             device, \n",
    "             test_generator,  \n",
    "             print_log=False):\n",
    "    \n",
    "    model.eval()\n",
    "    \n",
    "    dice_score = 0.0\n",
    "    iou_score = 0.0\n",
    "    correct = 0.0\n",
    "    \n",
    "    with torch.no_grad():\n",
    "        for i, batch_data in enumerate(test_generator):\n",
    "            cts = batch_data['data']\n",
    "            cts = cts.to(device)\n",
    "\n",
    "            labels = batch_data['label']\n",
    "            labels = labels.to(device)\n",
    "\n",
    "            outputs = model(cts)\n",
    "\n",
    "            masks_probs = outputs\n",
    "\n",
    "            dice_ = dice(masks_probs, labels)\n",
    "            iou_ = IoU(masks_probs, labels)\n",
    "\n",
    "            dice_score += dice_.item()\n",
    "            iou_score += iou_.item()\n",
    "            \n",
    "    dice_score /= len(test_generator)\n",
    "    iou_score /= len(test_generator)\n",
    "    \n",
    "    if print_log == True:\n",
    "        print('\\tTest set: dice score: {:.4f}, iou score: {:.4f}\\n'.format(dice_score, iou_score))\n",
    "    \n",
    "    return dice_score, iou_score"
   ]
  },
  {
   "cell_type": "markdown",
   "metadata": {},
   "source": [
    "## Create datalog folder"
   ]
  },
  {
   "cell_type": "code",
   "execution_count": 12,
   "metadata": {},
   "outputs": [],
   "source": [
    "\n",
    "current_datetime = datetime.now().strftime('%Y-%m-%d-%H-%M-%S')\n",
    "output_directory = 'logs-' + current_datetime\n",
    "if not os.path.isdir(output_directory):\n",
    "    os.makedirs(output_directory)"
   ]
  },
  {
   "cell_type": "markdown",
   "metadata": {},
   "source": [
    "## Training initialization\n",
    "Defines initial hyperparameters for learning, loss criterion, optimizer, etc..."
   ]
  },
  {
   "cell_type": "code",
   "execution_count": 13,
   "metadata": {
    "tags": []
   },
   "outputs": [],
   "source": [
    "use_cuda = True\n",
    "device = torch.device(\"cuda\" if use_cuda else \"cpu\")\n",
    "\n",
    "# model hyperparameters\n",
    "lr_model = 0.0003\n",
    "decay_step_size = 500\n",
    "gamma = 2.0\n",
    "focal_gain = 10.0\n",
    "\n",
    "# declare model\n",
    "channel_in, num_classes = 2, 1\n",
    "model = UNet(channel_in, num_classes)\n",
    "model.to(device)\n",
    "\n",
    "# learning schema\n",
    "criterion = MixedLoss(focal_gain, gamma)\n",
    "optimizer = torch.optim.Adam(model.parameters(), lr=lr_model)\n",
    "learning_scheduler = lr_scheduler.StepLR(optimizer, step_size=decay_step_size, gamma=0.1)\n",
    "\n",
    "num_epochs = 200\n",
    "ckpt_save_interval = 2\n",
    "\n",
    "# loss log initialization\n",
    "train_losses = []\n",
    "val_losses = []\n",
    "best_score = 0.0\n"
   ]
  },
  {
   "cell_type": "markdown",
   "metadata": {},
   "source": [
    "## Training loop\n",
    "General training scheme"
   ]
  },
  {
   "cell_type": "code",
   "execution_count": 14,
   "metadata": {
    "tags": []
   },
   "outputs": [
    {
     "output_type": "stream",
     "name": "stdout",
     "text": "Train Epoch: 0 [0/1985 (0%)]\tLoss: 0.937626\nTrain Epoch: 0 [200/1985 (10%)]\tLoss: 0.149901\nTrain Epoch: 0 [400/1985 (20%)]\tLoss: 0.090648\nTrain Epoch: 0 [600/1985 (30%)]\tLoss: 0.057674\nTrain Epoch: 0 [800/1985 (40%)]\tLoss: 0.036720\nTrain Epoch: 0 [1000/1985 (50%)]\tLoss: 0.028423\nTrain Epoch: 0 [1200/1985 (60%)]\tLoss: 0.021093\nTrain Epoch: 0 [1400/1985 (70%)]\tLoss: 0.015277\nTrain Epoch: 0 [1600/1985 (81%)]\tLoss: 0.013590\nTrain Epoch: 0 [1800/1985 (91%)]\tLoss: 0.011049\n\tTest set: dice score: 0.6388, iou score: 0.5408\n\n"
    },
    {
     "output_type": "error",
     "ename": "NameError",
     "evalue": "name 'train_losses' is not defined",
     "traceback": [
      "\u001b[1;31m---------------------------------------------------------------------------\u001b[0m",
      "\u001b[1;31mNameError\u001b[0m                                 Traceback (most recent call last)",
      "\u001b[1;32m<ipython-input-14-682a6b9e446b>\u001b[0m in \u001b[0;36m<module>\u001b[1;34m\u001b[0m\n\u001b[0;32m     25\u001b[0m \u001b[1;33m\u001b[0m\u001b[0m\n\u001b[0;32m     26\u001b[0m     \u001b[1;31m# record losses to logs\u001b[0m\u001b[1;33m\u001b[0m\u001b[1;33m\u001b[0m\u001b[1;33m\u001b[0m\u001b[0m\n\u001b[1;32m---> 27\u001b[1;33m     \u001b[0mtrain_losses\u001b[0m\u001b[1;33m.\u001b[0m\u001b[0mappend\u001b[0m\u001b[1;33m(\u001b[0m\u001b[0mtrain_loss\u001b[0m\u001b[1;33m)\u001b[0m\u001b[1;33m\u001b[0m\u001b[1;33m\u001b[0m\u001b[0m\n\u001b[0m\u001b[0;32m     28\u001b[0m     \u001b[0mval_losses\u001b[0m\u001b[1;33m.\u001b[0m\u001b[0mappend\u001b[0m\u001b[1;33m(\u001b[0m\u001b[0mval_loss\u001b[0m\u001b[1;33m)\u001b[0m\u001b[1;33m\u001b[0m\u001b[1;33m\u001b[0m\u001b[0m\n",
      "\u001b[1;31mNameError\u001b[0m: name 'train_losses' is not defined"
     ]
    }
   ],
   "source": [
    "for epoch in range(num_epochs):\n",
    "    # run training step\n",
    "    train_loss = train_net(model, \n",
    "                           device, \n",
    "                           train_generator,\n",
    "                           batch_size,\n",
    "                           criterion, \n",
    "                           optimizer,\n",
    "                           learning_scheduler,\n",
    "                           epoch, \n",
    "                           log_interval=100, \n",
    "                           print_log=True)\n",
    "\n",
    "    # run validation step\n",
    "    val_loss = test_net(model, \n",
    "                        device, \n",
    "                        dev_generator, \n",
    "                        print_log=True)\n",
    "\n",
    "    # save best models\n",
    "    if val_loss[0] > best_score:\n",
    "        best_score = val_loss[0]\n",
    "        torch.save(model.state_dict(), \n",
    "                   '{}/ckpt.model-{}.pt'.format(output_directory, epoch))\n",
    "\n",
    "    # record losses to logs\n",
    "    train_losses.append(train_loss)\n",
    "    val_losses.append(val_loss)"
   ]
  },
  {
   "cell_type": "code",
   "execution_count": null,
   "metadata": {},
   "outputs": [],
   "source": [
    "dice_scores, iou_scores = zip(*val_losses)\n",
    "n = range(0, len(dice_scores))\n",
    "fig = plt.figure(figsize=(12,8))\n",
    "plt.plot(n, dice_scores, label='dice')\n",
    "plt.plot(n, iou_scores, label='iou')\n",
    "plt.grid('on')\n",
    "plt.legend()"
   ]
  },
  {
   "cell_type": "code",
   "execution_count": null,
   "metadata": {},
   "outputs": [],
   "source": [
    "# Plot train results"
   ]
  },
  {
   "cell_type": "code",
   "execution_count": null,
   "metadata": {},
   "outputs": [],
   "source": [
    "dice_scores, iou_scores = zip(*gamma_val_loss)\n",
    "n = range(0, len(dice_scores))\n",
    "fig = plt.figure(figsize=(12,8))\n",
    "plt.plot(n, dice_scores, label='dice')\n",
    "plt.plot(n, iou_scores, label='iou')\n",
    "plt.grid('on')\n",
    "plt.legend()"
   ]
  },
  {
   "cell_type": "code",
   "execution_count": null,
   "metadata": {},
   "outputs": [],
   "source": [
    "import pickle\n",
    "with open('val-dice-iou-{}.pkl'.format(output_directory), 'wb') as f:\n",
    "    pickle.dump(gamma_train_loss, f)\n",
    "    pickle.dump(gamma_val_loss, f)"
   ]
  },
  {
   "cell_type": "code",
   "execution_count": null,
   "metadata": {},
   "outputs": [],
   "source": []
  },
  {
   "cell_type": "code",
   "execution_count": null,
   "metadata": {},
   "outputs": [],
   "source": [
    "with open('val-dice-iou.pkl', 'rb') as f:\n",
    "    a = pickle.load(f)"
   ]
  },
  {
   "cell_type": "code",
   "execution_count": null,
   "metadata": {},
   "outputs": [],
   "source": []
  },
  {
   "cell_type": "code",
   "execution_count": null,
   "metadata": {},
   "outputs": [],
   "source": []
  },
  {
   "cell_type": "code",
   "execution_count": null,
   "metadata": {},
   "outputs": [],
   "source": [
    "# Inference test"
   ]
  },
  {
   "cell_type": "code",
   "execution_count": null,
   "metadata": {},
   "outputs": [],
   "source": [
    "ckpt_path = 'ckpt.model-87.pt'\n",
    "\n",
    "use_cuda = True\n",
    "device = torch.device(\"cuda\" if use_cuda else \"cpu\")\n",
    "model = UNet(2,1)\n",
    "model.load_state_dict(torch.load(ckpt_path, map_location='cpu'))\n",
    "model.to(device)\n",
    "model.eval()"
   ]
  },
  {
   "cell_type": "code",
   "execution_count": null,
   "metadata": {},
   "outputs": [],
   "source": [
    "patient_idx = 9\n",
    "day_selection = 1\n",
    "\n",
    "patient_data = get_ct_pt_mask_data(patient_idx, day_selection)\n",
    "test_dataset = CTPTMaskDataset(patient_data, offset=(96, 96), output_size=(512, 512), augment=False)\n",
    "test_generator = DataLoader(test_dataset, batch_size=8, shuffle=False, num_workers=10)\n",
    "\n",
    "test_loss = 0.0\n",
    "correct = 0.0\n",
    "\n",
    "spine_masks = np.zeros((len(patient_data), 512, 512))\n",
    "ct_images = np.zeros((len(patient_data), 2, 512, 512))\n",
    "with torch.no_grad():\n",
    "    for idx in range(0, len(patient_data)):\n",
    "        batch_data = test_dataset[idx]\n",
    "        ct_data = batch_data['data']\n",
    "        ct_images[idx, :, :] = ct_data\n",
    "        \n",
    "        cts = np.expand_dims(ct_data, axis=0)\n",
    "        cts = torch.from_numpy(cts).to(device)\n",
    "\n",
    "        outputs = model(cts)\n",
    "        masks_probs = torch.squeeze(F.sigmoid(outputs))\n",
    "        mask = masks_probs.cpu().numpy()\n",
    "        spine_masks[idx, :, :] = mask\n",
    "        \n",
    "scio.savemat(os.path.join(output_directory, 'test-{}-{}.mat'.format(patient_idx, day_selection)), \n",
    "             {'mask':np.transpose(spine_masks, [1, 2, 0]),\n",
    "              'ct': np.transpose(ct_images, [0, 2, 3, 1])})"
   ]
  },
  {
   "cell_type": "code",
   "execution_count": null,
   "metadata": {},
   "outputs": [],
   "source": [
    "#import scipy.io as scio"
   ]
  },
  {
   "cell_type": "code",
   "execution_count": null,
   "metadata": {},
   "outputs": [],
   "source": [
    "# a = scio.loadmat('/home/chuong/MedicalResearch/Patient_02_2012-04-24.mat')"
   ]
  },
  {
   "cell_type": "code",
   "execution_count": null,
   "metadata": {},
   "outputs": [],
   "source": [
    "#a.keys()"
   ]
  },
  {
   "cell_type": "code",
   "execution_count": null,
   "metadata": {},
   "outputs": [],
   "source": [
    "#b = a['ct_info']"
   ]
  },
  {
   "cell_type": "code",
   "execution_count": null,
   "metadata": {},
   "outputs": [],
   "source": [
    "from utils import get_spine_mask"
   ]
  },
  {
   "cell_type": "code",
   "execution_count": null,
   "metadata": {},
   "outputs": [],
   "source": [
    "#mat_fname = '/backup_data1/ChuongWork/medical_imaging_data/SplineMat-11122015/Patient_15_2014-05-19.mat'\n",
    "mat_fname = '/media/chuong/WDRED3TB/ChuongWork/medical_imaging_data/SplineMat-11122015/Patient_15_2014-05-19.mat'\n",
    "get_spine_mask_v2(mat_fname, model, output_directory)"
   ]
  },
  {
   "cell_type": "code",
   "execution_count": null,
   "metadata": {},
   "outputs": [],
   "source": [
    "data_path = '/media/chuong/WDRED3TB/ChuongWork/medical_imaging_data/SplineMat-11122015'\n",
    "with open(data_path + '/blah.txt') as f:\n",
    "    patient_list = f.readlines()\n",
    "#patient_list"
   ]
  },
  {
   "cell_type": "code",
   "execution_count": null,
   "metadata": {},
   "outputs": [],
   "source": [
    "data_path = '/media/chuong/WDRED3TB/ChuongWork/medical_imaging_data/SplineMat-11122015'\n",
    "with open(data_path + '/blah.txt') as f:\n",
    "    patient_list = f.readlines()\n",
    "    \n",
    "for patient_info in patient_list:\n",
    "    patient = patient_info.replace('\\n', '')\n",
    "    mat_fname = os.path.join(data_path, patient)\n",
    "    print('Doing {} ....... '. format(mat_fname))\n",
    "    get_spine_mask_v2(mat_fname, model, output_directory)\n",
    "   \n",
    "    \n",
    "#data_path = '/home/chuong/MedicalResearch/'\n",
    "data_path = '/media/photography_main/CHUONG_DATA/ChuongWork/Research/MedicalImaging/OUBone/MedicalImaging/MatlabCode'\n",
    "with open(data_path + 'tempPatientList.txt') as f:\n",
    "    patient_list = f.readlines()\n",
    "    \n",
    "for patient_info in patient_list:\n",
    "    patient = patient_info.replace('\\n', '')\n",
    "    mat_fname = os.path.join(data_path, patient)\n",
    "    print('Doing {} ....... '. format(mat_fname))\n",
    "    get_spine_mask_v2(mat_fname, model, output_directory)    \n",
    "    "
   ]
  },
  {
   "cell_type": "code",
   "execution_count": null,
   "metadata": {},
   "outputs": [],
   "source": [
    "data_path = '/media/photography_main/CHUONG_DATA/ChuongWork/Research/MedicalImaging/OUBone/MedicalImaging/MatlabCode/'\n",
    "with open(data_path + 'tempPatientList.txt') as f:\n",
    "    patient_list = f.readlines()\n",
    "    \n",
    "for patient_info in patient_list:\n",
    "    patient = patient_info.replace('\\n', '')\n",
    "    mat_fname = os.path.join(data_path, patient)\n",
    "    print('Doing {} ....... '. format(mat_fname))\n",
    "    get_spine_mask_v2(mat_fname, model, output_directory)    "
   ]
  },
  {
   "cell_type": "code",
   "execution_count": null,
   "metadata": {},
   "outputs": [],
   "source": [
    "patient_idx = 9\n",
    "day_selection = 1\n",
    "\n",
    "patient_data = get_ct_pt_mask_data(patient_idx, day_selection)\n",
    "test_dataset = CTPTMaskDataset(patient_data, augment=False)\n",
    "test_generator = DataLoader(test_dataset, batch_size=8, shuffle=False, num_workers=10)"
   ]
  },
  {
   "cell_type": "code",
   "execution_count": null,
   "metadata": {},
   "outputs": [],
   "source": [
    "#import numpy as np\n",
    "rand_idx = random.randint(0, len(patient_data))\n",
    "fig, axs = plt.subplots(1, 3, figsize=(9, 3), sharey=True)\n",
    "axs[0].imshow(ct_images[rand_idx, 0, :, :][150:350, 150:350])\n",
    "axs[0].imshow(ct_images[rand_idx, 1, :, :][150:350, 150:350], alpha=0.4, cmap='jet')\n",
    "axs[1].imshow(ct_images[rand_idx, 1, :, :][150:350, 150:350], alpha=1, cmap='jet') \n",
    "axs[2].imshow(spine_masks[rand_idx, :, :][150:350, 150:350], alpha= 1.0)\n",
    "#axs[0].imshow(ct_images[rand_idx, :, :, 0][100:300,100:250])\n",
    "#axs[0].imshow(ct_images[rand_idx, :, :, 1][100:300,100:250])\n",
    "#axs[1].imshow(spine_masks[rand_idx, :, :][100:300,100:250], alpha= 1.0)\n",
    "plt.show()"
   ]
  },
  {
   "cell_type": "code",
   "execution_count": null,
   "metadata": {},
   "outputs": [],
   "source": [
    "#import hdf5"
   ]
  },
  {
   "cell_type": "code",
   "execution_count": null,
   "metadata": {},
   "outputs": [],
   "source": [
    "import scipy.io as scio"
   ]
  },
  {
   "cell_type": "code",
   "execution_count": null,
   "metadata": {},
   "outputs": [],
   "source": [
    "t = scio.loadmat('/')"
   ]
  },
  {
   "cell_type": "code",
   "execution_count": null,
   "metadata": {},
   "outputs": [],
   "source": [
    "mat_dir = '/data1/CHUONG_DATA/ChuongWork/medical_imaging_data/SplineMat-11122015'"
   ]
  },
  {
   "cell_type": "code",
   "execution_count": null,
   "metadata": {},
   "outputs": [],
   "source": [
    "!ls '/data1/CHUONG_DATA/ChuongWork/medical_imaging_data/SplineMat-11122015'"
   ]
  },
  {
   "cell_type": "code",
   "execution_count": null,
   "metadata": {},
   "outputs": [],
   "source": []
  },
  {
   "cell_type": "code",
   "execution_count": null,
   "metadata": {},
   "outputs": [],
   "source": []
  },
  {
   "cell_type": "code",
   "execution_count": null,
   "metadata": {},
   "outputs": [],
   "source": []
  },
  {
   "cell_type": "code",
   "execution_count": null,
   "metadata": {},
   "outputs": [],
   "source": []
  },
  {
   "cell_type": "code",
   "execution_count": null,
   "metadata": {},
   "outputs": [],
   "source": [
    "ct_fname = '../CT-PT-Images/P01/Day_1/CT/P_01_100.bin'"
   ]
  },
  {
   "cell_type": "code",
   "execution_count": null,
   "metadata": {},
   "outputs": [],
   "source": [
    "c = readBinImage(ct_fname)"
   ]
  },
  {
   "cell_type": "code",
   "execution_count": null,
   "metadata": {},
   "outputs": [],
   "source": [
    "plt.imshow(c)\n",
    "plt.show()"
   ]
  },
  {
   "cell_type": "code",
   "execution_count": null,
   "metadata": {},
   "outputs": [],
   "source": [
    "pt_fname = '../CT-PT-Images/P01/Day_3/PT/P_01_180.bin'"
   ]
  },
  {
   "cell_type": "code",
   "execution_count": null,
   "metadata": {},
   "outputs": [],
   "source": [
    "d = readBinImage(pt_fname, (144, 144))"
   ]
  },
  {
   "cell_type": "code",
   "execution_count": null,
   "metadata": {},
   "outputs": [],
   "source": [
    "plt.imshow(d[50:80,50:100])\n",
    "plt.show()"
   ]
  },
  {
   "cell_type": "code",
   "execution_count": null,
   "metadata": {},
   "outputs": [],
   "source": [
    "slice_idx = 160\n",
    "ct_fname = '../CT-PT-Images/P01/Day_1/CT/P_01_{}.bin'.format(slice_idx)\n",
    "ct_mask_fname = '../UCharImages/P1_1_{}.uchar'.format(slice_idx)\n",
    "\n",
    "#ct_fname, ct_mask_fname = c[50]\n",
    "\n",
    "mask = readUCharImage(ct_mask_fname)\n",
    "ct = readBinImage(ct_fname, (512, 512))\n",
    "\n",
    "# plot\n",
    "fig = plt.Figure(figsize=(20,20))\n",
    "ax = plt.subplot(1,2,1)\n",
    "ax.imshow(ct)\n",
    "ax2 = plt.subplot(1,2,2)\n",
    "ax2.imshow(mask, alpha=1.0)\n",
    "plt.show()\n",
    "\n",
    "#fig = plt.Figure(figsize=(10,10))\n",
    "\n",
    "\n",
    "#plt.show()\n",
    "\n"
   ]
  },
  {
   "cell_type": "code",
   "execution_count": null,
   "metadata": {},
   "outputs": [],
   "source": [
    "np.max(ct)"
   ]
  },
  {
   "cell_type": "code",
   "execution_count": null,
   "metadata": {},
   "outputs": [],
   "source": [
    "\n",
    "#fig = plt.Figure(figsize=(6,4))\n",
    "#ax1 = plt.subplot(1,2,1)\n",
    "#ax1.imshow(mask)\n",
    "#ax2 = plt.subplot(1,2,2)\n",
    "#ax2.imshow(ct)\n",
    "#plt.show()"
   ]
  },
  {
   "cell_type": "code",
   "execution_count": null,
   "metadata": {},
   "outputs": [],
   "source": []
  },
  {
   "cell_type": "code",
   "execution_count": null,
   "metadata": {},
   "outputs": [],
   "source": []
  },
  {
   "cell_type": "code",
   "execution_count": null,
   "metadata": {},
   "outputs": [],
   "source": []
  },
  {
   "cell_type": "code",
   "execution_count": null,
   "metadata": {},
   "outputs": [],
   "source": [
    "import matplotlib.pyplot as plt"
   ]
  },
  {
   "cell_type": "code",
   "execution_count": null,
   "metadata": {},
   "outputs": [],
   "source": [
    "plt.imshow(a)"
   ]
  },
  {
   "cell_type": "code",
   "execution_count": null,
   "metadata": {},
   "outputs": [],
   "source": [
    "plt.show()"
   ]
  },
  {
   "cell_type": "code",
   "execution_count": null,
   "metadata": {},
   "outputs": [],
   "source": []
  },
  {
   "cell_type": "code",
   "execution_count": null,
   "metadata": {},
   "outputs": [],
   "source": [
    "file = open(ct_fname, 'rb')\n",
    "rawData = file.read()\n",
    "img = Image.frombytes('I', (512,512), rawData)"
   ]
  },
  {
   "cell_type": "code",
   "execution_count": null,
   "metadata": {},
   "outputs": [],
   "source": [
    "b = np.array(img)"
   ]
  },
  {
   "cell_type": "code",
   "execution_count": null,
   "metadata": {},
   "outputs": [],
   "source": [
    "plt.matshow(b.T)\n",
    "plt.show()"
   ]
  },
  {
   "cell_type": "code",
   "execution_count": null,
   "metadata": {},
   "outputs": [],
   "source": []
  },
  {
   "cell_type": "code",
   "execution_count": null,
   "metadata": {},
   "outputs": [],
   "source": [
    "np.max(b)"
   ]
  },
  {
   "cell_type": "code",
   "execution_count": null,
   "metadata": {},
   "outputs": [],
   "source": [
    "np.min(b)"
   ]
  },
  {
   "cell_type": "code",
   "execution_count": null,
   "metadata": {},
   "outputs": [],
   "source": [
    "np.mean(b)"
   ]
  },
  {
   "cell_type": "code",
   "execution_count": null,
   "metadata": {},
   "outputs": [],
   "source": [
    "import glob"
   ]
  },
  {
   "cell_type": "markdown",
   "metadata": {},
   "source": [
    "# CLEAN P21, Day 2"
   ]
  },
  {
   "cell_type": "code",
   "execution_count": null,
   "metadata": {},
   "outputs": [],
   "source": [
    "dir_name = '/backup_data1/ChuongWork/medical_imaging_data/ChuongVerifiedData/Patient_21/11-C-0136_0021_CT_2015-03-27_145745_PET.CT.(MIC).FLT.Lupron_LD.CT.600FOV_n255__00000'\n",
    "fnames = glob.glob(dir_name + '/*.dcm')"
   ]
  },
  {
   "cell_type": "code",
   "execution_count": null,
   "metadata": {},
   "outputs": [],
   "source": []
  },
  {
   "cell_type": "code",
   "execution_count": null,
   "metadata": {},
   "outputs": [],
   "source": [
    "import os\n",
    "import glob"
   ]
  },
  {
   "cell_type": "code",
   "execution_count": null,
   "metadata": {},
   "outputs": [],
   "source": [
    "patient_idx = 1\n",
    "day_selection = 1\n",
    "ct_org_path='../CT-PT-Images'\n",
    "ct_pattern = '{}/P{:02d}/Day_{}/CT/P_{:02d}'.format(ct_org_path, patient_idx, day_selection, patient_idx)\n",
    "print(ct_pattern)\n",
    "ct_fnames = glob.glob(ct_pattern + '*.bin')\n",
    "len(ct_fnames)"
   ]
  },
  {
   "cell_type": "code",
   "execution_count": null,
   "metadata": {},
   "outputs": [],
   "source": [
    "pt_fnames = []\n",
    "for fname in ct_fnames:\n",
    "    frame_idx = int(os.path.basename(fname).split('_')[2][:3])\n",
    "    pt_fname = '{}/P{:02d}/Day_{}/PT-Float/P{:02d}_{}_{:03d}_Pelvis.float'.format(ct_org_path, patient_idx, day_selection, patient_idx, day_selection, frame_idx)\n",
    "    #print(pt_fname, frame_idx)\n",
    "    pt_fnames.append(pt_fname)"
   ]
  },
  {
   "cell_type": "code",
   "execution_count": null,
   "metadata": {},
   "outputs": [],
   "source": [
    "len(ct_fnames)"
   ]
  },
  {
   "cell_type": "code",
   "execution_count": null,
   "metadata": {},
   "outputs": [],
   "source": [
    "pt_prefix = '_'.join('../CT-PT-Images/P01/Day_1/PT-Float/P01_1_001_Pelvis.float'.split('_')[:-2])\n",
    "print(pt_prefix)"
   ]
  },
  {
   "cell_type": "code",
   "execution_count": null,
   "metadata": {},
   "outputs": [],
   "source": [
    "!file ../CT-PT-Images/P01/Day_1/PT-Float/P01_1_001_Pelvis.float"
   ]
  },
  {
   "cell_type": "code",
   "execution_count": null,
   "metadata": {},
   "outputs": [],
   "source": [
    "from utils import get_ct_pt_mask_data\n",
    "patient_idx = 1\n",
    "day_selection = 1\n",
    "a = get_ct_pt_mask_data(patient_idx, day_selection)"
   ]
  },
  {
   "cell_type": "code",
   "execution_count": null,
   "metadata": {},
   "outputs": [],
   "source": [
    "a"
   ]
  },
  {
   "cell_type": "code",
   "execution_count": null,
   "metadata": {},
   "outputs": [],
   "source": [
    "!file ../CT-PT-Images/P01/Day_1/PT-Float/P01_1_001_001_Pelvis.float"
   ]
  },
  {
   "cell_type": "code",
   "execution_count": null,
   "metadata": {},
   "outputs": [],
   "source": [
    "!file ../CT-PT-Images/P01/Day_1/PT-Float/P01_1_001_Pelvis.float"
   ]
  },
  {
   "cell_type": "code",
   "execution_count": null,
   "metadata": {},
   "outputs": [],
   "source": [
    "from PIL import Image\n",
    "import numpy as np\n",
    "\n",
    "fname = '../CT-PT-Images/P01/Day_1/PT-Float/P01_1_020.float'\n",
    "im_size = (512, 512)\n",
    "with open(fname, 'rb') as f:\n",
    "    rawData = f.read()\n",
    "    img = Image.frombytes('F', im_size, rawData)"
   ]
  },
  {
   "cell_type": "code",
   "execution_count": null,
   "metadata": {},
   "outputs": [],
   "source": [
    "a =  np.array(img)"
   ]
  },
  {
   "cell_type": "code",
   "execution_count": null,
   "metadata": {},
   "outputs": [],
   "source": [
    "a.shape"
   ]
  },
  {
   "cell_type": "code",
   "execution_count": null,
   "metadata": {},
   "outputs": [],
   "source": [
    "np.max(a)"
   ]
  },
  {
   "cell_type": "code",
   "execution_count": null,
   "metadata": {},
   "outputs": [],
   "source": [
    "np.min(a)"
   ]
  },
  {
   "cell_type": "code",
   "execution_count": null,
   "metadata": {},
   "outputs": [],
   "source": [
    "img.show()"
   ]
  },
  {
   "cell_type": "code",
   "execution_count": null,
   "metadata": {},
   "outputs": [],
   "source": [
    "import matplotlib.pyplot as plt"
   ]
  },
  {
   "cell_type": "code",
   "execution_count": null,
   "metadata": {},
   "outputs": [],
   "source": [
    "#plt.imshow(a)"
   ]
  },
  {
   "cell_type": "code",
   "execution_count": null,
   "metadata": {},
   "outputs": [],
   "source": [
    "import numpy as np"
   ]
  },
  {
   "cell_type": "code",
   "execution_count": null,
   "metadata": {},
   "outputs": [],
   "source": [
    "a = np.zeros((2, 2))\n",
    "b = np.ones((2, 2))"
   ]
  },
  {
   "cell_type": "code",
   "execution_count": null,
   "metadata": {},
   "outputs": [],
   "source": []
  },
  {
   "cell_type": "code",
   "execution_count": null,
   "metadata": {},
   "outputs": [],
   "source": [
    "c.shape"
   ]
  },
  {
   "cell_type": "code",
   "execution_count": null,
   "metadata": {},
   "outputs": [],
   "source": []
  }
 ],
 "metadata": {
  "kernelspec": {
   "display_name": "Python 3",
   "language": "python",
   "name": "python3"
  },
  "language_info": {
   "codemirror_mode": {
    "name": "ipython",
    "version": 3
   },
   "file_extension": ".py",
   "mimetype": "text/x-python",
   "name": "python",
   "nbconvert_exporter": "python",
   "pygments_lexer": "ipython3",
   "version": "3.6.7"
  }
 },
 "nbformat": 4,
 "nbformat_minor": 2
}