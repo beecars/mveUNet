{
 "cells": [
  {
   "cell_type": "markdown",
   "metadata": {},
   "source": [
    "#  U-Net Test: CT Bone Segmentation"
   ]
  },
  {
   "cell_type": "code",
   "execution_count": null,
   "metadata": {},
   "outputs": [],
   "source": [
    "from PIL import Image\n",
    "import numpy as np\n",
    "import scipy.io as scio\n",
    "import glob\n",
    "import torch\n",
    "\n",
    "import torch.nn as nn\n",
    "import torch.nn.functional as F\n",
    "import os\n",
    "import random\n",
    "from tqdm import tqdm\n",
    "\n",
    "from torch.utils.data import DataLoader, random_split\n",
    "from torch.optim import lr_scheduler\n",
    "import matplotlib.pyplot as plt\n",
    "\n",
    "from utils import (readFloatImage, readBinImage, readUCharImage, \n",
    "                   plotSomeImages, matchFilesFromPatient)\n",
    "\n",
    "from dataset import CTMaskDataset\n",
    "from model import UNet\n",
    "from train import train_net\n",
    "from eval import eval_net\n",
    "from losses import FocalLoss, MixedLoss, dice, IoU\n",
    "from predict import predict\n",
    "\n",
    "import imgaug as iaa\n",
    "from datetime import datetime\n",
    "import pickle"
   ]
  },
  {
   "cell_type": "markdown",
   "metadata": {},
   "source": [
    "## Define Datasets\n",
    "Get the CT and label mask files into Datasets."
   ]
  },
  {
   "cell_type": "code",
   "execution_count": null,
   "metadata": {
    "tags": []
   },
   "outputs": [],
   "source": [
    "# get patient data list from nested file system\n",
    "patient_idxs = [1, 3, 4, 5, 9]\n",
    "ct_data = []\n",
    "for idx in patient_idxs:\n",
    "    for day_selection in range(1,4):\n",
    "        matched_data = matchFilesFromPatient(idx, \n",
    "                                             day_selection, \n",
    "                                             mode='CT_SPINE',\n",
    "                                             no_empties=True)\n",
    "        ct_data.extend(matched_data)\n",
    "\n",
    "random.shuffle(ct_data)\n",
    "\n",
    "# set training and validation size\n",
    "train_set_size = 1000\n",
    "val_set_size = int(0.2 * train_set_size)\n",
    "train_data = ct_data[0:train_set_size]\n",
    "val_data = ct_data[train_set_size:train_set_size + val_set_size]\n",
    "\n",
    "train_dataset = CTMaskDataset(train_data, augment=True)\n",
    "val_dataset = CTMaskDataset(val_data, augment=False)\n",
    "\n",
    "batch_size = 2\n",
    "train_loader = DataLoader(train_dataset,\n",
    "                          batch_size=batch_size,\n",
    "                          shuffle=True,\n",
    "                          num_workers=8)\n",
    "\n",
    "val_loader = DataLoader(val_dataset,\n",
    "                        batch_size=batch_size,\n",
    "                        shuffle=True,\n",
    "                        num_workers=8)"
   ]
  },
  {
   "cell_type": "markdown",
   "metadata": {},
   "source": [
    "## Dataset verification\n",
    "Check the dataset containers for correct data and shape."
   ]
  },
  {
   "cell_type": "code",
   "execution_count": null,
   "metadata": {
    "tags": []
   },
   "outputs": [],
   "source": [
    "idx = np.random.choice(len(train_dataset))\n",
    "sample_data = train_dataset[idx]\n",
    "\n",
    "print('data sample:')\n",
    "print('ct image shape: ' + str(ct.shape))\n",
    "print(sample_data['data'])\n",
    "print('mask image shape: ' + str(mask.shape))\n",
    "print(sample_data['label'])\n",
    "\n",
    "ct = sample_data['data'][0,:,:]\n",
    "mask = sample_data['label'][0,:,:]\n",
    "\n",
    "images = {'data': ct,\n",
    "          'label': mask\n",
    "         }\n",
    "plotSomeImages(images, 1, 2)"
   ]
  },
  {
   "cell_type": "markdown",
   "metadata": {},
   "source": [
    "## Create datalog folder"
   ]
  },
  {
   "cell_type": "code",
   "execution_count": null,
   "metadata": {},
   "outputs": [],
   "source": [
    "current_datetime = datetime.now().strftime('%Y.%m.%d-%H.%M.%S')\n",
    "output_directory = 'trainlog-' + current_datetime\n",
    "if not os.path.isdir(output_directory):\n",
    "    os.makedirs(output_directory)"
   ]
  },
  {
   "cell_type": "markdown",
   "metadata": {},
   "source": [
    "## Training initialization\n",
    "Define hyperparameters for learning, loss function, optimizer, etc..."
   ]
  },
  {
   "cell_type": "code",
   "execution_count": null,
   "metadata": {
    "tags": []
   },
   "outputs": [],
   "source": [
    "use_cuda = True\n",
    "device = torch.device(\"cuda\" if use_cuda else \"cpu\")\n",
    "\n",
    "# model hyperparameters\n",
    "lr_model = 0.0003\n",
    "decay_step_size = 500\n",
    "focal_gain = 10.0\n",
    "\n",
    "# declare model\n",
    "model = UNet(n_channels = 1, \n",
    "             n_classes = 1,\n",
    "             large_model = True)\n",
    "\n",
    "model.to(device)\n",
    "\n",
    "# learning schema\n",
    "criterion = MixedLoss(focal_gain, gamma=2)\n",
    "\n",
    "optimizer = torch.optim.Adam(model.parameters(), lr=lr_model)\n",
    "\n",
    "learning_scheduler = lr_scheduler.StepLR(optimizer, \n",
    "                                         step_size=decay_step_size, \n",
    "                                         gamma=0.1)\n",
    "\n",
    "num_epochs = 20\n",
    "ckpt_save_interval = 2\n",
    "\n",
    "# loss log initialization\n",
    "train_losses = []\n",
    "val_losses = []\n",
    "best_score = 0.0\n"
   ]
  },
  {
   "cell_type": "markdown",
   "metadata": {},
   "source": [
    "## Training loop\n",
    "General training scheme with validation statistics recorded per epoch. Best models are saved."
   ]
  },
  {
   "cell_type": "code",
   "execution_count": null,
   "metadata": {
    "tags": []
   },
   "outputs": [],
   "source": [
    "for epoch in range(num_epochs):\n",
    "    # run training step\n",
    "    train_loss = train_net(model, \n",
    "                           device, \n",
    "                           train_loader,\n",
    "                           batch_size,\n",
    "                           criterion, \n",
    "                           optimizer,\n",
    "                           learning_scheduler,\n",
    "                           epoch,\n",
    "                           print_log=True)\n",
    "\n",
    "    # run validation step\n",
    "    val_loss = eval_net(model, \n",
    "                        device, \n",
    "                        val_loader, \n",
    "                        print_log=True)\n",
    "\n",
    "    # save best models\n",
    "    if val_loss[0] > best_score:\n",
    "        best_score = val_loss[0]\n",
    "        torch.save(model.state_dict(), \n",
    "                   '{}/unet_model_{}.pt'.format(output_directory, epoch))\n",
    "\n",
    "    # record losses to logs\n",
    "    train_losses.append(train_loss)\n",
    "    val_losses.append(val_loss)"
   ]
  },
  {
   "cell_type": "markdown",
   "metadata": {},
   "source": [
    "## Training charts\n",
    "Not sure if this works right now."
   ]
  },
  {
   "cell_type": "code",
   "execution_count": null,
   "metadata": {},
   "outputs": [],
   "source": [
    "dice_scores, iou_scores = zip(*val_losses)\n",
    "n = range(0, len(dice_scores))\n",
    "fig = plt.figure(figsize=(12,8))\n",
    "plt.plot(n, dice_scores, label='dice')\n",
    "plt.plot(n, iou_scores, label='iou')\n",
    "plt.grid('on')\n",
    "plt.legend()"
   ]
  },
  {
   "cell_type": "markdown",
   "metadata": {},
   "source": [
    "## Inference test\n",
    "Grab a random CT image from the loaded dataset and performs a prediction!"
   ]
  },
  {
   "cell_type": "code",
   "execution_count": null,
   "metadata": {
    "tags": []
   },
   "outputs": [],
   "source": [
    "rand_idx = random.randint(1, len(ct_data))\n",
    "ct_file = ct_data[rand_idx][0]\n",
    "img = readBinImage(ct_file)\n",
    "\n",
    "mask_file = ct_data[rand_idx][1]\n",
    "true_mask = readUCharImage(mask_file)\n",
    "\n",
    "prediction = predict(model, ct_file)\n",
    "prediction = prediction[0,0,:,:]\n",
    "mask = torch.sigmoid(prediction).detach().cpu().numpy()\n",
    "\n",
    "images = {'ct': img,\n",
    "          'truth': true_mask,\n",
    "          'prediction': mask\n",
    "         }\n",
    "plotSomeImages(images, 1, 3)"
   ]
  },
  {
   "cell_type": "code",
   "execution_count": 66,
   "metadata": {
    "tags": []
   },
   "outputs": [
    {
     "output_type": "execute_result",
     "data": {
      "text/plain": "{'ALLUSERSPROFILE': 'C:\\\\ProgramData',\n 'AMD_ENTRYPOINT': 'vs/workbench/services/extensions/node/extensionHostProcess',\n 'APPDATA': 'C:\\\\Users\\\\besid\\\\AppData\\\\Roaming',\n 'APPLICATION_INSIGHTS_NO_DIAGNOSTIC_CHANNEL': 'true',\n 'COMMONPROGRAMFILES': 'C:\\\\Program Files\\\\Common Files',\n 'COMMONPROGRAMFILES(X86)': 'C:\\\\Program Files (x86)\\\\Common Files',\n 'COMMONPROGRAMW6432': 'C:\\\\Program Files\\\\Common Files',\n 'COMPUTERNAME': 'TIGER',\n 'COMSPEC': 'C:\\\\WINDOWS\\\\system32\\\\cmd.exe',\n 'CONDA_DEFAULT_ENV': 'deepvision-unet',\n 'CONDA_EXE': 'C:\\\\Miniconda3\\\\Scripts\\\\conda.exe',\n 'CONDA_PREFIX': 'C:\\\\Miniconda3\\\\envs\\\\deepvision-unet',\n 'CONDA_PREFIX_1': 'C:\\\\Miniconda3',\n 'CONDA_PROMPT_MODIFIER': '(deepvision-unet) ',\n 'CONDA_PYTHON_EXE': 'C:\\\\Miniconda3\\\\python.exe',\n 'CONDA_SHLVL': '2',\n 'CUDA_PATH': 'C:\\\\Program Files\\\\NVIDIA GPU Computing Toolkit\\\\CUDA\\\\v10.2',\n 'CUDA_PATH_V10_2': 'C:\\\\Program Files\\\\NVIDIA GPU Computing Toolkit\\\\CUDA\\\\v10.2',\n 'DRIVERDATA': 'C:\\\\Windows\\\\System32\\\\Drivers\\\\DriverData',\n 'ELECTRON_RUN_AS_NODE': '1',\n 'FPS_BROWSER_APP_PROFILE_STRING': 'Internet Explorer',\n 'FPS_BROWSER_USER_PROFILE_STRING': 'Default',\n 'HOMEDRIVE': 'C:',\n 'HOMEPATH': '\\\\Users\\\\besid',\n 'LOCALAPPDATA': 'C:\\\\Users\\\\besid\\\\AppData\\\\Local',\n 'LOGONSERVER': '\\\\\\\\TIGER',\n 'NUMBER_OF_PROCESSORS': '8',\n 'NVCUDASAMPLES10_2_ROOT': 'C:\\\\ProgramData\\\\NVIDIA Corporation\\\\CUDA Samples\\\\v10.2',\n 'NVCUDASAMPLES_ROOT': 'C:\\\\ProgramData\\\\NVIDIA Corporation\\\\CUDA Samples\\\\v10.2',\n 'NVTOOLSEXT_PATH': 'C:\\\\Program Files\\\\NVIDIA Corporation\\\\NvToolsExt\\\\',\n 'ONEDRIVE': 'C:\\\\Users\\\\besid\\\\OneDrive',\n 'ONEDRIVECONSUMER': 'C:\\\\Users\\\\besid\\\\OneDrive',\n 'ORIGINAL_XDG_CURRENT_DESKTOP': 'undefined',\n 'OS': 'Windows_NT',\n 'PATH': 'C:\\\\Miniconda3\\\\envs\\\\deepvision-unet\\\\lib\\\\site-packages\\\\torch\\\\lib;C:\\\\Miniconda3\\\\envs\\\\deepvision-unet\\\\Library\\\\bin;C:\\\\Miniconda3\\\\envs\\\\deepvision-unet;C:\\\\Miniconda3\\\\envs\\\\deepvision-unet\\\\Library\\\\mingw-w64\\\\bin;C:\\\\Miniconda3\\\\envs\\\\deepvision-unet\\\\Library\\\\usr\\\\bin;C:\\\\Miniconda3\\\\envs\\\\deepvision-unet\\\\Library\\\\bin;C:\\\\Miniconda3\\\\envs\\\\deepvision-unet\\\\Scripts;C:\\\\Miniconda3\\\\envs\\\\deepvision-unet\\\\bin;C:\\\\Miniconda3\\\\condabin;C:\\\\Program Files\\\\NVIDIA GPU Computing Toolkit\\\\CUDA\\\\v10.2\\\\bin;C:\\\\Program Files\\\\NVIDIA GPU Computing Toolkit\\\\CUDA\\\\v10.2\\\\libnvvp;C:\\\\WINDOWS\\\\system32;C:\\\\WINDOWS;C:\\\\WINDOWS\\\\System32\\\\Wbem;C:\\\\WINDOWS\\\\System32\\\\WindowsPowerShell\\\\v1.0;C:\\\\WINDOWS\\\\System32\\\\OpenSSH;C:\\\\Program Files\\\\Microsoft VS Code\\\\bin;C:\\\\Program Files\\\\MATLAB\\\\R2020a\\\\bin;C:\\\\Program Files\\\\NVIDIA Corporation\\\\NVIDIA NvDLISR;C:\\\\Program Files\\\\NVIDIA Corporation\\\\Nsight Compute 2019.5.0;C:\\\\Program Files\\\\Git\\\\cmd;C:\\\\Miniconda3\\\\Scripts;C:\\\\Miniconda3;C:\\\\Program Files\\\\MiKTeX\\\\miktex\\\\bin\\\\x64;C:\\\\Program Files (x86)\\\\NVIDIA Corporation\\\\PhysX\\\\Common;C:\\\\Users\\\\besid\\\\AppData\\\\Local\\\\Microsoft\\\\WindowsApps;C:\\\\Users\\\\besid\\\\AppData\\\\Local\\\\GitHubDesktop\\\\bin',\n 'PATHEXT': '.COM;.EXE;.BAT;.CMD;.VBS;.VBE;.JS;.JSE;.WSF;.WSH;.MSC',\n 'PIPE_LOGGING': 'true',\n 'PROCESSOR_ARCHITECTURE': 'AMD64',\n 'PROCESSOR_IDENTIFIER': 'Intel64 Family 6 Model 158 Stepping 9, GenuineIntel',\n 'PROCESSOR_LEVEL': '6',\n 'PROCESSOR_REVISION': '9e09',\n 'PROGRAMDATA': 'C:\\\\ProgramData',\n 'PROGRAMFILES': 'C:\\\\Program Files',\n 'PROGRAMFILES(X86)': 'C:\\\\Program Files (x86)',\n 'PROGRAMW6432': 'C:\\\\Program Files',\n 'PROMPT': '(deepvision-unet) $P$G',\n 'PSMODULEPATH': 'C:\\\\Program Files\\\\WindowsPowerShell\\\\Modules;C:\\\\WINDOWS\\\\system32\\\\WindowsPowerShell\\\\v1.0\\\\Modules',\n 'PUBLIC': 'C:\\\\Users\\\\Public',\n 'PYTHONIOENCODING': 'utf-8',\n 'PYTHONPATH': 'c:\\\\Users\\\\besid\\\\.vscode\\\\extensions\\\\ms-python.python-2020.8.101144\\\\pythonFiles;c:\\\\Users\\\\besid\\\\.vscode\\\\extensions\\\\ms-python.python-2020.8.101144\\\\pythonFiles\\\\lib\\\\python',\n 'PYTHONUNBUFFERED': '1',\n 'PYTHONWARNINGS': 'ignore',\n 'RTOOLS40_HOME': 'C:\\\\Program Files\\\\rtools40',\n 'SESSIONNAME': 'Console',\n 'SYSTEMDRIVE': 'C:',\n 'SYSTEMROOT': 'C:\\\\WINDOWS',\n 'TEMP': 'C:\\\\Users\\\\besid\\\\AppData\\\\Local\\\\Temp',\n 'TMP': 'C:\\\\Users\\\\besid\\\\AppData\\\\Local\\\\Temp',\n 'USERDOMAIN': 'TIGER',\n 'USERDOMAIN_ROAMINGPROFILE': 'TIGER',\n 'USERNAME': 'besid',\n 'USERPROFILE': 'C:\\\\Users\\\\besid',\n 'VERBOSE_LOGGING': 'true',\n 'VSCODE_CWD': 'C:\\\\Program Files\\\\Microsoft VS Code',\n 'VSCODE_HANDLES_UNCAUGHT_ERRORS': 'true',\n 'VSCODE_IPC_HOOK': '\\\\\\\\.\\\\pipe\\\\a8b78ba594cb9ded1a1d9bea91e8a559-1.47.3-main-sock',\n 'VSCODE_IPC_HOOK_EXTHOST': '\\\\\\\\.\\\\pipe\\\\vscode-ipc-05a2ed04-5529-4c5a-a963-de2503fa517b-sock',\n 'VSCODE_LOGS': 'C:\\\\Users\\\\besid\\\\AppData\\\\Roaming\\\\Code\\\\logs\\\\20200815T235741',\n 'VSCODE_LOG_STACK': 'false',\n 'VSCODE_NLS_CONFIG': '{\"locale\":\"en-us\",\"availableLanguages\":{},\"_languagePackSupport\":true}',\n 'VSCODE_NODE_CACHED_DATA_DIR': 'C:\\\\Users\\\\besid\\\\AppData\\\\Roaming\\\\Code\\\\CachedData\\\\91899dcef7b8110878ea59626991a18c8a6a1b3e',\n 'VSCODE_PID': '8320',\n 'WINDIR': 'C:\\\\WINDOWS',\n 'JPY_INTERRUPT_EVENT': '568',\n 'IPY_INTERRUPT_EVENT': '568',\n 'JPY_PARENT_PID': '544',\n 'TERM': 'xterm-color',\n 'CLICOLOR': '1',\n 'PAGER': 'cat',\n 'GIT_PAGER': 'cat',\n 'MPLBACKEND': 'module://ipykernel.pylab.backend_inline',\n 'width': 1}"
     },
     "metadata": {},
     "execution_count": 66
    }
   ],
   "source": [
    "dict(os.environ, width = 1)"
   ]
  },
  {
   "cell_type": "code",
   "execution_count": null,
   "metadata": {},
   "outputs": [],
   "source": []
  }
 ],
 "metadata": {
  "kernelspec": {
   "display_name": "Python 3",
   "language": "python",
   "name": "python3"
  },
  "language_info": {
   "codemirror_mode": {
    "name": "ipython",
    "version": 3
   },
   "file_extension": ".py",
   "mimetype": "text/x-python",
   "name": "python",
   "nbconvert_exporter": "python",
   "pygments_lexer": "ipython3",
   "version": "3.7.7-final"
  }
 },
 "nbformat": 4,
 "nbformat_minor": 2
}