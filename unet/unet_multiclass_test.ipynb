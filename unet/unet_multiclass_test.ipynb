{
 "cells": [
  {
   "cell_type": "markdown",
   "metadata": {},
   "source": [
    "#  U-Net Test: *Multi-class* CT Bone Segmentation"
   ]
  },
  {
   "cell_type": "code",
   "execution_count": null,
   "metadata": {},
   "outputs": [],
   "source": [
    "import numpy as np\n",
    "import matplotlib.pyplot as plt\n",
    "import random\n",
    "\n",
    "import torch\n",
    "import torch.nn as nn\n",
    "from torch.utils.data import DataLoader, random_split\n",
    "from torch.optim import lr_scheduler\n",
    "from losses import FocalLoss, MixedLoss, dice, IoU\n",
    "from model import UNet\n",
    "from dataset import CTMulticlassDataset\n",
    "\n",
    "from train import train_net, train_net_multiclass\n",
    "from eval import eval_net, eval_net_multiclass\n",
    "from predict import predict\n",
    "from utils import (readFloatImage, readBinImage, readUCharImage, \n",
    "                   plotSomeImages, matchFilesFromPatient)\n",
    "\n",
    "from datetime import datetime"
   ]
  },
  {
   "cell_type": "markdown",
   "metadata": {},
   "source": [
    "## Define Datasets\n",
    "Get the CT and label mask files into Datasets."
   ]
  },
  {
   "cell_type": "code",
   "execution_count": null,
   "metadata": {
    "tags": []
   },
   "outputs": [],
   "source": [
    "# get patient data list from nested file system\n",
    "patient_idxs = [1, 3, 4, 5]\n",
    "ct_data = []\n",
    "for idx in patient_idxs:\n",
    "    for day_selection in range(1,4):\n",
    "        matched_data = matchFilesFromPatient(idx, \n",
    "                                             day_selection, \n",
    "                                             mode='CT_SPINE_STERNUM_PELVIS')\n",
    "        ct_data.extend(matched_data)\n",
    "\n",
    "random.shuffle(ct_data)\n",
    "\n",
    "# set training and validation size\n",
    "train_set_size = 1000\n",
    "val_set_size = int(0.2 * train_set_size)\n",
    "train_data = ct_data[0:train_set_size]\n",
    "val_data = ct_data[train_set_size:train_set_size + val_set_size]\n",
    "\n",
    "train_dataset = CTMulticlassDataset(train_data, augment=True)\n",
    "val_dataset = CTMulticlassDataset(val_data, augment=False)\n",
    "\n",
    "batch_size = 3\n",
    "train_loader = DataLoader(train_dataset,\n",
    "                          batch_size=batch_size,\n",
    "                          shuffle=True,\n",
    "                          num_workers=1)\n",
    "\n",
    "val_loader = DataLoader(val_dataset,\n",
    "                        batch_size=batch_size,\n",
    "                        shuffle=True,\n",
    "                        num_workers=1)"
   ]
  },
  {
   "cell_type": "markdown",
   "metadata": {},
   "source": [
    "## Create datalog folder"
   ]
  },
  {
   "cell_type": "code",
   "execution_count": null,
   "metadata": {},
   "outputs": [],
   "source": [
    "current_datetime = datetime.now().strftime('%Y.%m.%d-%H.%M.%S')\n",
    "output_directory = 'trainlog-' + current_datetime\n",
    "if not os.path.isdir(output_directory):\n",
    "    os.makedirs(output_directory)"
   ]
  },
  {
   "cell_type": "markdown",
   "metadata": {},
   "source": [
    "## Training initialization\n",
    "Define hyperparameters for learning, loss function, optimizer, etc..."
   ]
  },
  {
   "cell_type": "code",
   "execution_count": null,
   "metadata": {
    "tags": []
   },
   "outputs": [],
   "source": [
    "use_cuda = True\n",
    "device = torch.device(\"cuda\" if use_cuda else \"cpu\")\n",
    "\n",
    "# model hyperparameters\n",
    "lr_model = 0.0003\n",
    "decay_step_size = 500\n",
    "\n",
    "# declare model\n",
    "model = UNet(n_channels = 1, \n",
    "             n_classes = 3,\n",
    "             large_model = True)\n",
    "\n",
    "model.to(device)\n",
    "\n",
    "# learning schema\n",
    "criterion = nn.BCEWithLogitsLoss()\n",
    "\n",
    "optimizer = torch.optim.Adam(model.parameters(), lr=lr_model)\n",
    "\n",
    "learning_scheduler = lr_scheduler.StepLR(optimizer, \n",
    "                                         step_size=decay_step_size, \n",
    "                                         gamma=0.1)\n",
    "num_epochs = 5\n",
    "ckpt_save_interval = 2\n",
    "\n",
    "# loss log initialization\n",
    "train_losses = []\n",
    "val_losses = []\n",
    "best_score = 0.0\n"
   ]
  },
  {
   "cell_type": "markdown",
   "metadata": {},
   "source": [
    "## Training loop\n",
    "General training scheme with validation statistics recorded per epoch. Best models are saved."
   ]
  },
  {
   "cell_type": "code",
   "execution_count": null,
   "metadata": {
    "tags": []
   },
   "outputs": [],
   "source": [
    "for epoch in range(num_epochs):\n",
    "    # run training step\n",
    "    train_loss = train_net_multiclass(model, \n",
    "                                      device, \n",
    "                                      train_loader,\n",
    "                                      batch_size,\n",
    "                                      criterion, \n",
    "                                      optimizer,\n",
    "                                      learning_scheduler,\n",
    "                                      epoch,\n",
    "                                      print_log=True)\n",
    "\n",
    "    # save models\n",
    "    torch.save(model.state_dict(), '{}/unet_model_{}.pt'.format(output_directory, epoch))"
   ]
  },
  {
   "cell_type": "markdown",
   "metadata": {},
   "source": [
    "## Inference test\n",
    "Grab a random CT image from the loaded dataset and performs a prediction!"
   ]
  },
  {
   "cell_type": "code",
   "execution_count": null,
   "metadata": {
    "tags": []
   },
   "outputs": [],
   "source": [
    "model.eval()\n",
    "\n",
    "ridx = random.randint(0, len(val_loader)-1)\n",
    "    \n",
    "ct = val_dataset[ridx]['image'].unsqueeze(0)\n",
    "ct = ct.to(device)\n",
    "mask = val_dataset[ridx]['target'].unsqueeze(0)\n",
    "mask = mask.to(device)\n",
    "pred = model(ct)\n",
    "\n",
    "with torch.no_grad():\n",
    "    pred = torch.sigmoid(pred)\n",
    "    pred = model(ct).cpu()\n",
    "    pred = pred.numpy()\n",
    "\n",
    "pred_spine = pred[0,0,:,:]\n",
    "pred_stern = pred[0,1,:,:]\n",
    "pred_pelvi = pred[0,2,:,:]\n",
    "plt.imshow(pred_pelvi)"
   ]
  },
  {
   "cell_type": "code",
   "execution_count": null,
   "metadata": {},
   "outputs": [],
   "source": []
  }
 ],
 "metadata": {
  "kernelspec": {
   "display_name": "Python 3.7.7 64-bit ('torch': conda)",
   "language": "python",
   "name": "python_defaultSpec_1599517768293"
  },
  "language_info": {
   "codemirror_mode": {
    "name": "ipython",
    "version": 3
   },
   "file_extension": ".py",
   "mimetype": "text/x-python",
   "name": "python",
   "nbconvert_exporter": "python",
   "pygments_lexer": "ipython3",
   "version": "3.7.7-final"
  }
 },
 "nbformat": 4,
 "nbformat_minor": 2
}