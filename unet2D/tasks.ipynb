{
 "metadata": {
  "language_info": {
   "codemirror_mode": {
    "name": "ipython",
    "version": 3
   },
   "file_extension": ".py",
   "mimetype": "text/x-python",
   "name": "python",
   "nbconvert_exporter": "python",
   "pygments_lexer": "ipython3",
   "version": "3.7.9"
  },
  "orig_nbformat": 2,
  "kernelspec": {
   "name": "python3",
   "display_name": "Python 3",
   "language": "python"
  }
 },
 "nbformat": 4,
 "nbformat_minor": 2,
 "cells": [
  {
   "cell_type": "code",
   "execution_count": 2,
   "metadata": {
    "tags": []
   },
   "outputs": [],
   "source": [
    "from utils.dataset import CTMaskDataset\n",
    "from utils.utils import  plotSomeImages, generateNpySlices, loadMatData, generateSplits\n",
    "from predict import predict_vol_from_vol\n",
    "from unet.unet_model import UNet\n",
    "from random import randint\n",
    "from eval import eval_volumes\n",
    "import torch\n",
    "import numpy as np\n",
    "import scipy as sp\n",
    "from matplotlib import pyplot as plt\n",
    "from PIL import Image"
   ]
  },
  {
   "source": [
    "## Create training data."
   ],
   "cell_type": "markdown",
   "metadata": {}
  },
  {
   "cell_type": "code",
   "execution_count": null,
   "metadata": {},
   "outputs": [],
   "source": [
    "# Create list of patient [vol_idxs] from range.\n",
    "all_idxs = [[a , b] for b in range(1,4) for a in range(1,23)]\n",
    "# Create list of the class mask_data you want.\n",
    "mask_names = ['spine_mask', 'stern_mask', 'pelvi_mask']\n",
    "# Generate training/data splits from those that have .mat data matching the mask_names. \n",
    "val_idxs, trn_idxs = generateSplits(all_idxs, mask_names = mask_names)\n",
    "# Generate the training .npy files.\n",
    "generateNpySlices(trn_idxs[0], mask_names = mask_names)"
   ]
  },
  {
   "source": [
    "## Verify training data."
   ],
   "cell_type": "markdown",
   "metadata": {}
  },
  {
   "cell_type": "code",
   "execution_count": null,
   "metadata": {},
   "outputs": [],
   "source": [
    "# Create a CTMaskDataset from the training data.\n",
    "dataset = CTMaskDataset(augment=False)"
   ]
  },
  {
   "cell_type": "code",
   "execution_count": null,
   "metadata": {},
   "outputs": [],
   "source": [
    "# Display a sample from the training data. \n",
    "ridx = randint(0, len(dataset))\n",
    "verify = dataset[ridx]\n",
    "ct = verify['ct'].squeeze().numpy()\n",
    "target = verify['target'].squeeze().numpy()\n",
    "imgs = {'ct': ct, 'target': target}\n",
    "plotSomeImages(imgs, 1, 2)"
   ]
  },
  {
   "source": [
    "## Evaluate model on vol_idxs"
   ],
   "cell_type": "markdown",
   "metadata": {}
  },
  {
   "cell_type": "code",
   "execution_count": null,
   "metadata": {},
   "outputs": [],
   "source": [
    "# Set up UNet. Must match model you are loading. \n",
    "device = torch.device('cuda')\n",
    "# n_classes = 1 for binary class, n+1 for multi-class.\n",
    "net = UNet(n_channels=1, n_classes=4, bilinear=False) \n",
    "# Load model from file.\n",
    "net.load_state_dict(torch.load('C:/.py_workspace/reveal/unet2D/.runs/multiclass_testing/3class_results/model_state.pth'))\n",
    "net.to(device)"
   ]
  },
  {
   "cell_type": "code",
   "execution_count": null,
   "metadata": {},
   "outputs": [],
   "source": [
    "# Evaluate from vol_idx list!\n",
    "vol_idxs = [[2, 1], [2, 3]]\n",
    "eval_volumes(net, device, vol_idxs)"
   ]
  },
  {
   "source": [
    "## Generate prediction volume from model."
   ],
   "cell_type": "markdown",
   "metadata": {}
  },
  {
   "cell_type": "code",
   "execution_count": 3,
   "metadata": {},
   "outputs": [
    {
     "output_type": "execute_result",
     "data": {
      "text/plain": [
       "UNet(\n",
       "  (inc): DoubleConv(\n",
       "    (double_conv): Sequential(\n",
       "      (0): Conv2d(1, 64, kernel_size=(3, 3), stride=(1, 1), padding=(1, 1))\n",
       "      (1): BatchNorm2d(64, eps=1e-05, momentum=0.1, affine=True, track_running_stats=True)\n",
       "      (2): ReLU(inplace=True)\n",
       "      (3): Conv2d(64, 64, kernel_size=(3, 3), stride=(1, 1), padding=(1, 1))\n",
       "      (4): BatchNorm2d(64, eps=1e-05, momentum=0.1, affine=True, track_running_stats=True)\n",
       "      (5): ReLU(inplace=True)\n",
       "    )\n",
       "  )\n",
       "  (down1): Down(\n",
       "    (maxpool_conv): Sequential(\n",
       "      (0): MaxPool2d(kernel_size=2, stride=2, padding=0, dilation=1, ceil_mode=False)\n",
       "      (1): DoubleConv(\n",
       "        (double_conv): Sequential(\n",
       "          (0): Conv2d(64, 128, kernel_size=(3, 3), stride=(1, 1), padding=(1, 1))\n",
       "          (1): BatchNorm2d(128, eps=1e-05, momentum=0.1, affine=True, track_running_stats=True)\n",
       "          (2): ReLU(inplace=True)\n",
       "          (3): Conv2d(128, 128, kernel_size=(3, 3), stride=(1, 1), padding=(1, 1))\n",
       "          (4): BatchNorm2d(128, eps=1e-05, momentum=0.1, affine=True, track_running_stats=True)\n",
       "          (5): ReLU(inplace=True)\n",
       "        )\n",
       "      )\n",
       "    )\n",
       "  )\n",
       "  (down2): Down(\n",
       "    (maxpool_conv): Sequential(\n",
       "      (0): MaxPool2d(kernel_size=2, stride=2, padding=0, dilation=1, ceil_mode=False)\n",
       "      (1): DoubleConv(\n",
       "        (double_conv): Sequential(\n",
       "          (0): Conv2d(128, 256, kernel_size=(3, 3), stride=(1, 1), padding=(1, 1))\n",
       "          (1): BatchNorm2d(256, eps=1e-05, momentum=0.1, affine=True, track_running_stats=True)\n",
       "          (2): ReLU(inplace=True)\n",
       "          (3): Conv2d(256, 256, kernel_size=(3, 3), stride=(1, 1), padding=(1, 1))\n",
       "          (4): BatchNorm2d(256, eps=1e-05, momentum=0.1, affine=True, track_running_stats=True)\n",
       "          (5): ReLU(inplace=True)\n",
       "        )\n",
       "      )\n",
       "    )\n",
       "  )\n",
       "  (down3): Down(\n",
       "    (maxpool_conv): Sequential(\n",
       "      (0): MaxPool2d(kernel_size=2, stride=2, padding=0, dilation=1, ceil_mode=False)\n",
       "      (1): DoubleConv(\n",
       "        (double_conv): Sequential(\n",
       "          (0): Conv2d(256, 512, kernel_size=(3, 3), stride=(1, 1), padding=(1, 1))\n",
       "          (1): BatchNorm2d(512, eps=1e-05, momentum=0.1, affine=True, track_running_stats=True)\n",
       "          (2): ReLU(inplace=True)\n",
       "          (3): Conv2d(512, 512, kernel_size=(3, 3), stride=(1, 1), padding=(1, 1))\n",
       "          (4): BatchNorm2d(512, eps=1e-05, momentum=0.1, affine=True, track_running_stats=True)\n",
       "          (5): ReLU(inplace=True)\n",
       "        )\n",
       "      )\n",
       "    )\n",
       "  )\n",
       "  (down4): Down(\n",
       "    (maxpool_conv): Sequential(\n",
       "      (0): MaxPool2d(kernel_size=2, stride=2, padding=0, dilation=1, ceil_mode=False)\n",
       "      (1): DoubleConv(\n",
       "        (double_conv): Sequential(\n",
       "          (0): Conv2d(512, 1024, kernel_size=(3, 3), stride=(1, 1), padding=(1, 1))\n",
       "          (1): BatchNorm2d(1024, eps=1e-05, momentum=0.1, affine=True, track_running_stats=True)\n",
       "          (2): ReLU(inplace=True)\n",
       "          (3): Conv2d(1024, 1024, kernel_size=(3, 3), stride=(1, 1), padding=(1, 1))\n",
       "          (4): BatchNorm2d(1024, eps=1e-05, momentum=0.1, affine=True, track_running_stats=True)\n",
       "          (5): ReLU(inplace=True)\n",
       "        )\n",
       "      )\n",
       "    )\n",
       "  )\n",
       "  (up1): Up(\n",
       "    (up): ConvTranspose2d(1024, 512, kernel_size=(2, 2), stride=(2, 2))\n",
       "    (conv): DoubleConv(\n",
       "      (double_conv): Sequential(\n",
       "        (0): Conv2d(1024, 512, kernel_size=(3, 3), stride=(1, 1), padding=(1, 1))\n",
       "        (1): BatchNorm2d(512, eps=1e-05, momentum=0.1, affine=True, track_running_stats=True)\n",
       "        (2): ReLU(inplace=True)\n",
       "        (3): Conv2d(512, 512, kernel_size=(3, 3), stride=(1, 1), padding=(1, 1))\n",
       "        (4): BatchNorm2d(512, eps=1e-05, momentum=0.1, affine=True, track_running_stats=True)\n",
       "        (5): ReLU(inplace=True)\n",
       "      )\n",
       "    )\n",
       "  )\n",
       "  (up2): Up(\n",
       "    (up): ConvTranspose2d(512, 256, kernel_size=(2, 2), stride=(2, 2))\n",
       "    (conv): DoubleConv(\n",
       "      (double_conv): Sequential(\n",
       "        (0): Conv2d(512, 256, kernel_size=(3, 3), stride=(1, 1), padding=(1, 1))\n",
       "        (1): BatchNorm2d(256, eps=1e-05, momentum=0.1, affine=True, track_running_stats=True)\n",
       "        (2): ReLU(inplace=True)\n",
       "        (3): Conv2d(256, 256, kernel_size=(3, 3), stride=(1, 1), padding=(1, 1))\n",
       "        (4): BatchNorm2d(256, eps=1e-05, momentum=0.1, affine=True, track_running_stats=True)\n",
       "        (5): ReLU(inplace=True)\n",
       "      )\n",
       "    )\n",
       "  )\n",
       "  (up3): Up(\n",
       "    (up): ConvTranspose2d(256, 128, kernel_size=(2, 2), stride=(2, 2))\n",
       "    (conv): DoubleConv(\n",
       "      (double_conv): Sequential(\n",
       "        (0): Conv2d(256, 128, kernel_size=(3, 3), stride=(1, 1), padding=(1, 1))\n",
       "        (1): BatchNorm2d(128, eps=1e-05, momentum=0.1, affine=True, track_running_stats=True)\n",
       "        (2): ReLU(inplace=True)\n",
       "        (3): Conv2d(128, 128, kernel_size=(3, 3), stride=(1, 1), padding=(1, 1))\n",
       "        (4): BatchNorm2d(128, eps=1e-05, momentum=0.1, affine=True, track_running_stats=True)\n",
       "        (5): ReLU(inplace=True)\n",
       "      )\n",
       "    )\n",
       "  )\n",
       "  (up4): Up(\n",
       "    (up): ConvTranspose2d(128, 64, kernel_size=(2, 2), stride=(2, 2))\n",
       "    (conv): DoubleConv(\n",
       "      (double_conv): Sequential(\n",
       "        (0): Conv2d(128, 64, kernel_size=(3, 3), stride=(1, 1), padding=(1, 1))\n",
       "        (1): BatchNorm2d(64, eps=1e-05, momentum=0.1, affine=True, track_running_stats=True)\n",
       "        (2): ReLU(inplace=True)\n",
       "        (3): Conv2d(64, 64, kernel_size=(3, 3), stride=(1, 1), padding=(1, 1))\n",
       "        (4): BatchNorm2d(64, eps=1e-05, momentum=0.1, affine=True, track_running_stats=True)\n",
       "        (5): ReLU(inplace=True)\n",
       "      )\n",
       "    )\n",
       "  )\n",
       "  (outc): OutConv(\n",
       "    (conv): Conv2d(64, 4, kernel_size=(1, 1), stride=(1, 1))\n",
       "  )\n",
       ")"
      ]
     },
     "metadata": {},
     "execution_count": 3
    }
   ],
   "source": [
    "# Set up UNet. Must match model you are loading. \n",
    "device = torch.device('cuda')\n",
    "# n_classes = 1 for binary class, n+1 for multi-class.\n",
    "net = UNet(n_channels=1, n_classes=4, bilinear=False) \n",
    "# Load model from file.\n",
    "net.load_state_dict(torch.load('C:/.py_workspace/reveal/unet2D/.runs/multiclass_testing/3class_results/model_state.pth'))\n",
    "net.to(device)"
   ]
  },
  {
   "cell_type": "code",
   "execution_count": 48,
   "metadata": {},
   "outputs": [
    {
     "output_type": "stream",
     "name": "stderr",
     "text": []
    }
   ],
   "source": [
    "# Predict from vol_idx!\n",
    "vol_idx = [22, 3]\n",
    "ct_data = loadMatData(vol_idx, data = 'ct')\n",
    "pt_data = loadMatData(vol_idx, data = 'pt')\n",
    "with torch.no_grad():\n",
    "    pred_vol = predict_vol_from_vol(net, device, vol_idx)"
   ]
  },
  {
   "cell_type": "code",
   "execution_count": 49,
   "metadata": {},
   "outputs": [],
   "source": [
    "# Save as .mat if you want...\n",
    "# Something like this...\n",
    "pred_dict = {'ct': ct_data,\n",
    "             'pt': pt_data,\n",
    "             'bg': pred_vol[0, :, :, :],\n",
    "             'spine': pred_vol[1, :, :, :],\n",
    "             'stern': pred_vol[2, :, :, :],\n",
    "             'pelvi': pred_vol[3, :, :, :]}\n",
    "\n",
    "savepath = \"C:/.py_workspace/reveal/unet2D/.predictions/\"\n",
    "filename = \"patient%d_day%d_pred.mat\" % (vol_idx[0], vol_idx[1])\n",
    "sp.io.savemat(savepath + filename, pred_dict, do_compression=True)"
   ]
  },
  {
   "source": [
    "## Slice Display Stuff"
   ],
   "cell_type": "markdown",
   "metadata": {}
  },
  {
   "cell_type": "code",
   "execution_count": 7,
   "metadata": {},
   "outputs": [
    {
     "output_type": "stream",
     "name": "stderr",
     "text": []
    },
    {
     "output_type": "error",
     "ename": "IndexError",
     "evalue": "index 255 is out of bounds for axis 1 with size 144",
     "traceback": [
      "\u001b[1;31m---------------------------------------------------------------------------\u001b[0m",
      "\u001b[1;31mIndexError\u001b[0m                                Traceback (most recent call last)",
      "\u001b[1;32m<ipython-input-7-0465a033365e>\u001b[0m in \u001b[0;36m<module>\u001b[1;34m\u001b[0m\n\u001b[0;32m     21\u001b[0m \u001b[0mct_cor\u001b[0m \u001b[1;33m=\u001b[0m \u001b[0mnp\u001b[0m\u001b[1;33m.\u001b[0m\u001b[0marray\u001b[0m\u001b[1;33m(\u001b[0m\u001b[0mct_cor_pil\u001b[0m\u001b[1;33m)\u001b[0m\u001b[1;33m\u001b[0m\u001b[1;33m\u001b[0m\u001b[0m\n\u001b[0;32m     22\u001b[0m \u001b[1;33m\u001b[0m\u001b[0m\n\u001b[1;32m---> 23\u001b[1;33m \u001b[0mpt_sag\u001b[0m \u001b[1;33m=\u001b[0m \u001b[0mnp\u001b[0m\u001b[1;33m.\u001b[0m\u001b[0mflip\u001b[0m\u001b[1;33m(\u001b[0m\u001b[0mnp\u001b[0m\u001b[1;33m.\u001b[0m\u001b[0mtranspose\u001b[0m\u001b[1;33m(\u001b[0m\u001b[0mpt\u001b[0m\u001b[1;33m[\u001b[0m\u001b[1;33m:\u001b[0m\u001b[1;33m,\u001b[0m \u001b[1;36m255\u001b[0m\u001b[1;33m,\u001b[0m \u001b[1;33m:\u001b[0m\u001b[1;33m]\u001b[0m\u001b[1;33m)\u001b[0m\u001b[1;33m,\u001b[0m \u001b[1;36m0\u001b[0m\u001b[1;33m)\u001b[0m\u001b[1;33m\u001b[0m\u001b[1;33m\u001b[0m\u001b[0m\n\u001b[0m\u001b[0;32m     24\u001b[0m \u001b[0mheight\u001b[0m\u001b[1;33m,\u001b[0m \u001b[0mwidth\u001b[0m \u001b[1;33m=\u001b[0m \u001b[0mnp\u001b[0m\u001b[1;33m.\u001b[0m\u001b[0mshape\u001b[0m\u001b[1;33m(\u001b[0m\u001b[0mpt_sag\u001b[0m\u001b[1;33m)\u001b[0m\u001b[1;33m\u001b[0m\u001b[1;33m\u001b[0m\u001b[0m\n\u001b[0;32m     25\u001b[0m \u001b[0mpt_sag_pil\u001b[0m \u001b[1;33m=\u001b[0m \u001b[0mImage\u001b[0m\u001b[1;33m.\u001b[0m\u001b[0mfromarray\u001b[0m\u001b[1;33m(\u001b[0m\u001b[0mpt_sag\u001b[0m\u001b[1;33m)\u001b[0m\u001b[1;33m\u001b[0m\u001b[1;33m\u001b[0m\u001b[0m\n",
      "\u001b[1;31mIndexError\u001b[0m: index 255 is out of bounds for axis 1 with size 144"
     ]
    }
   ],
   "source": [
    "vol_idx = [2, 2]\n",
    "ct = loadMatData(vol_idx)\n",
    "pt = loadMatData(vol_idx, data = 'pt')\n",
    "\n",
    "device = torch.device('cuda')\n",
    "net = UNet(n_channels=1, n_classes=4, bilinear=False) \n",
    "net.load_state_dict(torch.load('C:/.py_workspace/reveal/unet2D/.runs/multiclass_testing/3class_results/model_state.pth'))\n",
    "net.to(device)\n",
    "mask = predict_vol_from_vol(net, device, vol_idx)[1]\n",
    "\n",
    "ct_sag = np.flip(np.transpose(ct[:, 255, :]), 0)\n",
    "height, width = np.shape(ct_sag)\n",
    "ct_sag_pil = Image.fromarray(ct_sag)\n",
    "ct_sag_pil = ct_sag_pil.resize((width, 3 * height), resample = Image.NEAREST)\n",
    "ct_sag = np.array(ct_sag_pil)\n",
    "\n",
    "ct_cor = np.flip(np.transpose(ct[315, :, :]), 0)\n",
    "height, width = np.shape(ct_cor)\n",
    "ct_cor_pil = Image.fromarray(ct_cor)\n",
    "ct_cor_pil = ct_cor_pil.resize((width, 3 * height), resample = Image.NEAREST)\n",
    "ct_cor = np.array(ct_cor_pil)\n",
    "\n",
    "pt_sag = np.flip(np.transpose(pt[:, 255, :]), 0)\n",
    "height, width = np.shape(pt_sag)\n",
    "pt_sag_pil = Image.fromarray(pt_sag)\n",
    "pt_sag_pil = pt_sag_pil.resize((width, 3 * height), resample = Image.NEAREST)\n",
    "pt_sag = np.array(pt_sag_pil)\n",
    "\n",
    "pt_cor = np.flip(np.transpose(pt[315, :, :]), 0)\n",
    "height, width = np.shape(pt_cor)\n",
    "pt_cor_pil = Image.fromarray(pt_cor)\n",
    "pt_cor_pil = pt_cor_pil.resize((width, 3 * height), resample = Image.NEAREST)\n",
    "pt_cor = np.array(pt_cor_pil)\n",
    "\n",
    "mask_sag = np.flip(np.transpose(mask[:, 255, :]), 0)\n",
    "height, width = np.shape(mask_sag)\n",
    "mask_sag_pil = Image.fromarray(mask_sag)\n",
    "mask_sag_pil = mask_sag_pil.resize((width, 3 * height), resample = Image.NEAREST)\n",
    "mask_sag = np.array(mask_sag_pil)\n",
    "\n",
    "mask_cor = np.flip(np.transpose(mask[315, :, :]), 0)\n",
    "height, width = np.shape(mask_cor)\n",
    "mask_cor_pil = Image.fromarray(mask_cor)\n",
    "mask_cor_pil = mask_cor_pil.resize((width, 3 * height), resample = Image.NEAREST)\n",
    "mask_cor = np.array(mask_cor_pil)\n",
    "\n",
    "pt_sag_seg = pt_sag * mask_sag\n",
    "pt_cor_seg = pt_cor * mask_cor\n",
    "\n",
    "images = {'ct_saggital': ct_sag, \n",
    "          'pet_saggital': pt_sag,\n",
    "          'mask_saggital': mask_sag,\n",
    "          'pet_sag_seg': pt_sag_seg, \n",
    "          'ct_coronal': ct_cor,\n",
    "          'pet_coronal': pt_cor,\n",
    "          'mask_coronal': mask_cor,\n",
    "          'pet_cor_seg': pt_cor_seg}\n",
    "plotSomeImages(images, nrows = 2, ncols = 4)"
   ]
  },
  {
   "cell_type": "code",
   "execution_count": null,
   "metadata": {},
   "outputs": [],
   "source": []
  }
 ]
}