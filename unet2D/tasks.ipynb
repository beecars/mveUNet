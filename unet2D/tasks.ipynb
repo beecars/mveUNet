{
 "metadata": {
  "language_info": {
   "codemirror_mode": {
    "name": "ipython",
    "version": 3
   },
   "file_extension": ".py",
   "mimetype": "text/x-python",
   "name": "python",
   "nbconvert_exporter": "python",
   "pygments_lexer": "ipython3",
   "version": "3.7.9"
  },
  "orig_nbformat": 2,
  "kernelspec": {
   "name": "python3",
   "display_name": "Python 3",
   "language": "python"
  }
 },
 "nbformat": 4,
 "nbformat_minor": 2,
 "cells": [
  {
   "cell_type": "code",
   "execution_count": null,
   "metadata": {
    "tags": []
   },
   "outputs": [],
   "source": [
    "from utils.dataset import CTMaskDataset\n",
    "from utils.utils import  plotSomeImages, generateNpySlices, loadMatData, generateSplits\n",
    "from predict import predict_vol_from_vol_idx\n",
    "from unet.unet_model import UNet\n",
    "from random import randint\n",
    "from eval import eval_volumes\n",
    "import torch\n",
    "import numpy as np\n",
    "import scipy as sp\n",
    "from matplotlib import pyplot as plt\n",
    "from PIL import Image"
   ]
  },
  {
   "source": [
    "## Create training data."
   ],
   "cell_type": "markdown",
   "metadata": {}
  },
  {
   "cell_type": "code",
   "execution_count": null,
   "metadata": {},
   "outputs": [],
   "source": [
    "# Create list of patient [vol_idxs] from range.\n",
    "all_idxs = [[a , b] for b in range(1,4) for a in range(1,23)]\n",
    "# Create list of the class mask_data you want.\n",
    "mask_names = ['spine_mask', 'stern_mask', 'pelvi_mask']\n",
    "# Generate training/data splits from those that have .mat data matching the mask_names. \n",
    "val_idxs, trn_idxs = generateSplits(all_idxs, mask_names = mask_names)\n",
    "# Generate the training .npy files.\n",
    "generateNpySlices(trn_idxs[0], mask_names = mask_names)"
   ]
  },
  {
   "source": [
    "## Verify training data."
   ],
   "cell_type": "markdown",
   "metadata": {}
  },
  {
   "cell_type": "code",
   "execution_count": null,
   "metadata": {},
   "outputs": [],
   "source": [
    "# Create a CTMaskDataset from the training data.\n",
    "dataset = CTMaskDataset(augment=False)"
   ]
  },
  {
   "cell_type": "code",
   "execution_count": null,
   "metadata": {},
   "outputs": [],
   "source": [
    "# Display a sample from the training data. \n",
    "ridx = randint(0, len(dataset))\n",
    "verify = dataset[ridx]\n",
    "ct = verify['ct'].squeeze().numpy()\n",
    "target = verify['target'].squeeze().numpy()\n",
    "imgs = {'ct': ct, 'target': target}\n",
    "plotSomeImages(imgs, 1, 2)"
   ]
  },
  {
   "source": [
    "## Evaluate model on vol_idxs"
   ],
   "cell_type": "markdown",
   "metadata": {}
  },
  {
   "cell_type": "code",
   "execution_count": null,
   "metadata": {},
   "outputs": [],
   "source": [
    "# Set up UNet. Must match model you are loading. \n",
    "device = torch.device('cuda')\n",
    "# n_classes = 1 for binary class, n+1 for multi-class.\n",
    "net = UNet(n_channels=1, n_classes=4, bilinear=False) \n",
    "# Load model from file.\n",
    "net.load_state_dict(torch.load('C:/.py_workspace/reveal/unet2D/.runs/multiclass_testing/3class_results/model_state.pth'))\n",
    "net.to(device)"
   ]
  },
  {
   "cell_type": "code",
   "execution_count": null,
   "metadata": {},
   "outputs": [],
   "source": [
    "# Evaluate from vol_idx list!\n",
    "vol_idxs = [[2, 1], [2, 3]]\n",
    "eval_volumes(net, device, vol_idxs)"
   ]
  },
  {
   "source": [
    "## Generate prediction volume from model."
   ],
   "cell_type": "markdown",
   "metadata": {}
  },
  {
   "cell_type": "code",
   "execution_count": null,
   "metadata": {},
   "outputs": [],
   "source": [
    "# Set up UNet. Must match model you are loading. \n",
    "device = torch.device('cuda')\n",
    "# n_classes = 1 for binary class, n+1 for multi-class.\n",
    "net = UNet(n_channels=1, n_classes=4, bilinear=False) \n",
    "# Load model from file.\n",
    "net.load_state_dict(torch.load('C:/.py_workspace/reveal/unet2D/.runs/multiclass_testing/3class_results/model_state.pth'))\n",
    "net.to(device)"
   ]
  },
  {
   "cell_type": "code",
   "execution_count": null,
   "metadata": {},
   "outputs": [],
   "source": [
    "# Predict from vol_idx!\n",
    "vol_idx = [22, 3]\n",
    "ct_data = loadMatData(vol_idx, data = 'ct')\n",
    "pt_data = loadMatData(vol_idx, data = 'pt')\n",
    "with torch.no_grad():\n",
    "    pred_vol = predict_vol_from_vol_idx(net, device, vol_idx)"
   ]
  },
  {
   "cell_type": "code",
   "execution_count": null,
   "metadata": {},
   "outputs": [],
   "source": [
    "# Save as .mat if you want...\n",
    "# Something like this...\n",
    "pred_dict = {'ct': ct_data,\n",
    "             'pt': pt_data,\n",
    "             'bg': pred_vol[0, :, :, :],\n",
    "             'spine': pred_vol[1, :, :, :],\n",
    "             'stern': pred_vol[2, :, :, :],\n",
    "             'pelvi': pred_vol[3, :, :, :]}\n",
    "\n",
    "savepath = \"C:/.py_workspace/reveal/unet2D/.predictions/\"\n",
    "filename = \"patient%d_day%d_pred.mat\" % (vol_idx[0], vol_idx[1])\n",
    "sp.io.savemat(savepath + filename, pred_dict, do_compression=True)"
   ]
  },
  {
   "source": [
    "## Slice Display Stuff"
   ],
   "cell_type": "markdown",
   "metadata": {}
  },
  {
   "cell_type": "code",
   "execution_count": null,
   "metadata": {},
   "outputs": [],
   "source": [
    "vol_idx = [2, 2]\n",
    "ct = loadMatData(vol_idx)\n",
    "pt = loadMatData(vol_idx, data = 'pt')\n",
    "\n",
    "device = torch.device('cuda')\n",
    "net = UNet(n_channels=1, n_classes=4, bilinear=False) \n",
    "net.load_state_dict(torch.load('C:/.py_workspace/reveal/unet2D/.runs/multiclass_testing/3class_results/model_state.pth'))\n",
    "net.to(device)\n",
    "mask = predict_vol_from_vol_idx(net, device, vol_idx)[1]\n",
    "\n",
    "ct_sag = np.flip(np.transpose(ct[:, 255, :]), 0)\n",
    "height, width = np.shape(ct_sag)\n",
    "ct_sag_pil = Image.fromarray(ct_sag)\n",
    "ct_sag_pil = ct_sag_pil.resize((width, 3 * height), resample = Image.NEAREST)\n",
    "ct_sag = np.array(ct_sag_pil)\n",
    "\n",
    "ct_cor = np.flip(np.transpose(ct[315, :, :]), 0)\n",
    "height, width = np.shape(ct_cor)\n",
    "ct_cor_pil = Image.fromarray(ct_cor)\n",
    "ct_cor_pil = ct_cor_pil.resize((width, 3 * height), resample = Image.NEAREST)\n",
    "ct_cor = np.array(ct_cor_pil)\n",
    "\n",
    "pt_sag = np.flip(np.transpose(pt[:, 255, :]), 0)\n",
    "height, width = np.shape(pt_sag)\n",
    "pt_sag_pil = Image.fromarray(pt_sag)\n",
    "pt_sag_pil = pt_sag_pil.resize((width, 3 * height), resample = Image.NEAREST)\n",
    "pt_sag = np.array(pt_sag_pil)\n",
    "\n",
    "pt_cor = np.flip(np.transpose(pt[315, :, :]), 0)\n",
    "height, width = np.shape(pt_cor)\n",
    "pt_cor_pil = Image.fromarray(pt_cor)\n",
    "pt_cor_pil = pt_cor_pil.resize((width, 3 * height), resample = Image.NEAREST)\n",
    "pt_cor = np.array(pt_cor_pil)\n",
    "\n",
    "mask_sag = np.flip(np.transpose(mask[:, 255, :]), 0)\n",
    "height, width = np.shape(mask_sag)\n",
    "mask_sag_pil = Image.fromarray(mask_sag)\n",
    "mask_sag_pil = mask_sag_pil.resize((width, 3 * height), resample = Image.NEAREST)\n",
    "mask_sag = np.array(mask_sag_pil)\n",
    "\n",
    "mask_cor = np.flip(np.transpose(mask[315, :, :]), 0)\n",
    "height, width = np.shape(mask_cor)\n",
    "mask_cor_pil = Image.fromarray(mask_cor)\n",
    "mask_cor_pil = mask_cor_pil.resize((width, 3 * height), resample = Image.NEAREST)\n",
    "mask_cor = np.array(mask_cor_pil)\n",
    "\n",
    "pt_sag_seg = pt_sag * mask_sag\n",
    "pt_cor_seg = pt_cor * mask_cor\n",
    "\n",
    "images = {'ct_sagital': ct_sag, \n",
    "          'pet_sagital': pt_sag,\n",
    "          'mask_sagital': mask_sag,\n",
    "          'pet_sag_seg': pt_sag_seg, \n",
    "          'ct_coronal': ct_cor,\n",
    "          'pet_coronal': pt_cor,\n",
    "          'mask_coronal': mask_cor,\n",
    "          'pet_cor_seg': pt_cor_seg}\n",
    "plotSomeImages(images, nrows = 2, ncols = 4)"
   ]
  },
  {
   "cell_type": "code",
   "execution_count": null,
   "metadata": {},
   "outputs": [],
   "source": []
  }
 ]
}