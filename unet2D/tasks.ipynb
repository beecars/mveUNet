{
 "metadata": {
  "language_info": {
   "codemirror_mode": {
    "name": "ipython",
    "version": 3
   },
   "file_extension": ".py",
   "mimetype": "text/x-python",
   "name": "python",
   "nbconvert_exporter": "python",
   "pygments_lexer": "ipython3",
   "version": "3.7.9"
  },
  "orig_nbformat": 2,
  "kernelspec": {
   "name": "python3",
   "display_name": "Python 3",
   "language": "python"
  }
 },
 "nbformat": 4,
 "nbformat_minor": 2,
 "cells": [
  {
   "cell_type": "code",
   "execution_count": null,
   "metadata": {
    "tags": []
   },
   "outputs": [],
   "source": [
    "from utils.dataset import CTMaskDataset\n",
    "from utils.utils import  plotSomeImages, generateNpySlices, loadMatData, generateSplits\n",
    "from predict import predict_vol_from_vol\n",
    "from unet.unet_model import UNet\n",
    "from random import randint\n",
    "from eval import eval_volumes\n",
    "import torch\n",
    "import numpy as np\n",
    "import scipy as sp\n",
    "from matplotlib import pyplot as plt\n",
    "from PIL import Image"
   ]
  },
  {
   "source": [
    "## Create training data."
   ],
   "cell_type": "markdown",
   "metadata": {}
  },
  {
   "cell_type": "code",
   "execution_count": null,
   "metadata": {},
   "outputs": [],
   "source": [
    "# Create list of patient [vol_idxs] from range.\n",
    "all_idxs = [[a , b] for b in range(1,4) for a in range(1,23)]\n",
    "# Create list of the class mask_data you want.\n",
    "mask_names = ['spine_mask', 'stern_mask', 'pelvi_mask']\n",
    "# Generate training/data splits from those that have .mat data matching the mask_names. \n",
    "val_idxs, trn_idxs = generateSplits(all_idxs, mask_names = mask_names)\n",
    "# Generate the training .npy files.\n",
    "generateNpySlices(trn_idxs[0], mask_names = mask_names)"
   ]
  },
  {
   "source": [
    "## Verify training data."
   ],
   "cell_type": "markdown",
   "metadata": {}
  },
  {
   "cell_type": "code",
   "execution_count": null,
   "metadata": {},
   "outputs": [],
   "source": [
    "# Create a CTMaskDataset from the training data.\n",
    "dataset = CTMaskDataset(augment=False)"
   ]
  },
  {
   "cell_type": "code",
   "execution_count": null,
   "metadata": {},
   "outputs": [],
   "source": [
    "# Display a sample from the training data. \n",
    "ridx = randint(0, len(dataset))\n",
    "verify = dataset[ridx]\n",
    "ct = verify['ct'].squeeze().numpy()\n",
    "target = verify['target'].squeeze().numpy()\n",
    "imgs = {'ct': ct, 'target': target}\n",
    "plotSomeImages(imgs, 1, 2)"
   ]
  },
  {
   "source": [
    "## Evaluate model on vol_idxs"
   ],
   "cell_type": "markdown",
   "metadata": {}
  },
  {
   "cell_type": "code",
   "execution_count": null,
   "metadata": {},
   "outputs": [],
   "source": [
    "# Set up UNet. Must match model you are loading. \n",
    "device = torch.device('cuda')\n",
    "# n_classes = 1 for binary class, n+1 for multi-class.\n",
    "net = UNet(n_channels=1, n_classes=4, bilinear=False) \n",
    "# Load model from file.\n",
    "net.load_state_dict(torch.load('C:/.py_workspace/mveUNet/unet2D/.runs/multiclass_testing/3class_results/model_state.pth'))\n",
    "net.to(device)"
   ]
  },
  {
   "cell_type": "code",
   "execution_count": null,
   "metadata": {},
   "outputs": [],
   "source": [
    "# Evaluate from vol_idx list!\n",
    "vol_idxs = [[2, 1], [2, 3]]\n",
    "eval_volumes(net, device, vol_idxs)"
   ]
  },
  {
   "source": [
    "## Generate prediction volume from model."
   ],
   "cell_type": "markdown",
   "metadata": {}
  },
  {
   "cell_type": "code",
   "execution_count": null,
   "metadata": {},
   "outputs": [],
   "source": [
    "# Set up UNet. Must match model you are loading. \n",
    "device = torch.device('cuda')\n",
    "# n_classes = 1 for binary class, n+1 for multi-class.\n",
    "net = UNet(n_channels=1, n_classes=4, bilinear=False) \n",
    "# Load model from file.\n",
    "net.load_state_dict(torch.load('C:/.py_workspace/mveUNet/unet2D/.runs/multiclass_testing/3class_results/model_state.pth'))\n",
    "net.to(device)"
   ]
  },
  {
   "cell_type": "code",
   "execution_count": null,
   "metadata": {},
   "outputs": [],
   "source": [
    "# Predict from vol_idx!\n",
    "vol_idx = [22, 3]\n",
    "ct_data = loadMatData(vol_idx, data = 'ct')\n",
    "pt_data = loadMatData(vol_idx, data = 'pt')\n",
    "with torch.no_grad():\n",
    "    pred_vol = predict_vol_from_vol(net, device, vol_idx)"
   ]
  },
  {
   "cell_type": "code",
   "execution_count": null,
   "metadata": {},
   "outputs": [],
   "source": [
    "# Save as .mat if you want...\n",
    "# Something like this...\n",
    "pred_dict = {'ct': ct_data,\n",
    "             'pt': pt_data,\n",
    "             'bg': pred_vol[0, :, :, :],\n",
    "             'spine': pred_vol[1, :, :, :],\n",
    "             'stern': pred_vol[2, :, :, :],\n",
    "             'pelvi': pred_vol[3, :, :, :]}\n",
    "\n",
    "savepath = \"C:/.py_workspace/mveUNet/unet2D/.predictions/\"\n",
    "filename = \"patient%d_day%d_pred.mat\" % (vol_idx[0], vol_idx[1])\n",
    "sp.io.savemat(savepath + filename, pred_dict, do_compression=True)"
   ]
  }
 ]
}