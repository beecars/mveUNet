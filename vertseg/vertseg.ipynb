{
 "metadata": {
  "language_info": {
   "codemirror_mode": {
    "name": "ipython",
    "version": 3
   },
   "file_extension": ".py",
   "mimetype": "text/x-python",
   "name": "python",
   "nbconvert_exporter": "python",
   "pygments_lexer": "ipython3",
   "version": "3.7.9-final"
  },
  "orig_nbformat": 2,
  "kernelspec": {
   "name": "python3",
   "display_name": "Python 3.7.9 64-bit",
   "metadata": {
    "interpreter": {
     "hash": "23da5f08e76559c521c35908d61cd13ba1d5a1a04938c1f97ded0a791a44a1dc"
    }
   }
  }
 },
 "nbformat": 4,
 "nbformat_minor": 2,
 "cells": [
  {
   "source": [
    "## Individual Vertebrae Segmentation Process Flow"
   ],
   "cell_type": "markdown",
   "metadata": {}
  },
  {
   "cell_type": "code",
   "execution_count": null,
   "metadata": {},
   "outputs": [],
   "source": [
    "from utils.utils import loadMatData\n",
    "from utils.imgproc import findCentroidSliceIdx, cdfFromHist, findClosestValueIdx, getLocalStack, addStack\n",
    "from scipy.io import loadmat\n",
    "from scipy.stats import relfreq\n",
    "import numpy as np\n",
    "from matplotlib import pyplot as plt\n",
    "import cv2"
   ]
  },
  {
   "source": [
    "### Load some test data."
   ],
   "cell_type": "markdown",
   "metadata": {}
  },
  {
   "cell_type": "code",
   "execution_count": null,
   "metadata": {},
   "outputs": [],
   "source": [
    "vol_dict = loadmat(\"C:/.py_workspace/reveal/unet2D/.predictions/pred_vol_p2d3.mat\")\n",
    "pt_vol = vol_dict['pt']\n",
    "mask_vol = vol_dict['spine']"
   ]
  },
  {
   "source": [
    "### Find centroid slice along saggital axis of the spinal mask volume.\n",
    "#### (use this as a reference location for futhrer processing)"
   ],
   "cell_type": "markdown",
   "metadata": {}
  },
  {
   "cell_type": "code",
   "execution_count": null,
   "metadata": {},
   "outputs": [],
   "source": [
    "idx = findCentroidSliceIdx(mask_vol)"
   ]
  },
  {
   "source": [
    "### Aggregate PET and mask slices around the centroid slice.\n",
    "#### (smooths noise)"
   ],
   "cell_type": "markdown",
   "metadata": {}
  },
  {
   "cell_type": "code",
   "execution_count": null,
   "metadata": {},
   "outputs": [],
   "source": [
    "# stack and aggregate saggital PET scans around center\n",
    "pt_stack = getLocalStack(pt_vol, idx, span = 5, dim = 1)\n",
    "pt_aggregate = addStack(pt_stack, dim = 1)\n",
    "\n",
    "# stack and aggregate mask slices around center\n",
    "mask_stack = getLocalStack(mask_vol, idx, span = 5, dim = 1)\n",
    "mask_aggregate = addStack(mask_stack, dim = 1).astype('bool').astype('int')\n",
    "\n",
    "# plt.imshow(mask_aggregate, interpolation='none', cmap = 'gray')"
   ]
  },
  {
   "source": [
    "### Use morphological filters to \"regularize\" the aggregate mask.\n",
    "#### (neccessary as intermediate step)"
   ],
   "cell_type": "markdown",
   "metadata": {}
  },
  {
   "cell_type": "code",
   "execution_count": null,
   "metadata": {},
   "outputs": [],
   "source": [
    "# morphological filters to regulularize column shape\n",
    "mask_aggregate = mask_aggregate.astype('uint8')\n",
    "kernel = cv2.getStructuringElement(cv2.MORPH_CROSS, ksize = (2, 2))\n",
    "# fill small gaps with CLOSE filter\n",
    "mask_aggregate = cv2.morphologyEx(mask_aggregate, cv2.MORPH_CLOSE, kernel)\n",
    "# remove penninsulas with OPEN filter\n",
    "mask_aggregate = cv2.morphologyEx(mask_aggregate, cv2.MORPH_OPEN, kernel)\n",
    "\n",
    "# plt.imshow(mask_aggregate, interpolation='none', cmap = 'gray')"
   ]
  },
  {
   "source": [
    "### Mask the PET scan with the filtered aggregate mask image."
   ],
   "cell_type": "markdown",
   "metadata": {}
  },
  {
   "cell_type": "code",
   "execution_count": null,
   "metadata": {},
   "outputs": [],
   "source": [
    "pt_aggregate = np.multiply(pt_aggregate, mask_aggregate.astype('int'))\n",
    "\n",
    "plt.imshow(pt_aggregate, interpolation='none', cmap = 'gray')"
   ]
  },
  {
   "source": [
    "### Construct an array contaning the mean of the three central non-zero values in the coronal direction for each axial slice.\n",
    "#### (this destorys the image)"
   ],
   "cell_type": "markdown",
   "metadata": {}
  },
  {
   "cell_type": "code",
   "execution_count": null,
   "metadata": {
    "tags": []
   },
   "outputs": [],
   "source": [
    "ncols = pt_aggregate.shape[1]\n",
    "pt_data_nonzero = np.empty(ncols, dtype = 'object')\n",
    "for col in range(ncols):\n",
    "     col_data = pt_aggregate[:, col]\n",
    "     col_data_nonzero = col_data[col_data != 0]\n",
    "     pt_data_nonzero[col] = col_data_nonzero\n",
    "\n",
    "pt_data_mean = np.empty(ncols, dtype = 'object')\n",
    "for idx, array in enumerate(pt_data_nonzero):\n",
    "     if len(array) < 3:\n",
    "          pt_data_mean[idx] = 0\n",
    "     else:\n",
    "          center_idx = int(np.floor(len(array)/2))\n",
    "          center_vals = [array[center_idx-1], array[center_idx], array[center_idx+1]]\n",
    "          pt_data_mean[idx] = np.mean(center_vals)"
   ]
  },
  {
   "source": [
    "### Algorithm to find \"boundary\" indexes between vertebrae"
   ],
   "cell_type": "markdown",
   "metadata": {}
  },
  {
   "cell_type": "code",
   "execution_count": null,
   "metadata": {},
   "outputs": [],
   "source": [
    "pt_mean_ddx = np.gradient(pt_data_mean)\n",
    "vspan = 7\n",
    "spacing = 2"
   ]
  },
  {
   "cell_type": "code",
   "execution_count": null,
   "metadata": {},
   "outputs": [],
   "source": [
    "# find first nonzero index\n",
    "for idx, val in enumerate(pt_data_mean):\n",
    "    if val == 0:\n",
    "        continue\n",
    "    else:\n",
    "        start_idx = idx\n",
    "        break"
   ]
  },
  {
   "cell_type": "code",
   "execution_count": null,
   "metadata": {},
   "outputs": [],
   "source": [
    "# detect dips in first expected span\n",
    "current_idx = start_idx\n",
    "vert_idxs = np.zeros(19)\n",
    "for array_idx in range(19):\n",
    "    sub_idx = np.argmin(pt_data_mean[current_idx+spacing:current_idx+vspan]) + spacing\n",
    "    current_idx = current_idx + sub_idx\n",
    "    vert_idxs[array_idx] = current_idx\n",
    "    current_idx = current_idx + 1"
   ]
  },
  {
   "cell_type": "code",
   "execution_count": null,
   "metadata": {},
   "outputs": [],
   "source": []
  }
 ]
}